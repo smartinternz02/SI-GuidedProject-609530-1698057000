{
 "cells": [
  {
   "cell_type": "code",
   "execution_count": 2,
   "metadata": {},
   "outputs": [],
   "source": [
    "import numpy as np\n",
    "import pandas as pd\n",
    "from sklearn.preprocessing import LabelEncoder\n",
    "le = LabelEncoder()\n",
    "from sklearn.model_selection import train_test_split\n",
    "from sklearn.ensemble import RandomForestRegressor\n",
    "rf = RandomForestRegressor(random_state=42)\n",
    "from sklearn.metrics import r2_score\n",
    "from sklearn.metrics import mean_absolute_error\n",
    "from sklearn.metrics import mean_squared_error"
   ]
  },
  {
   "cell_type": "code",
   "execution_count": 3,
   "metadata": {},
   "outputs": [
    {
     "data": {
      "text/html": [
       "<div>\n",
       "<style scoped>\n",
       "    .dataframe tbody tr th:only-of-type {\n",
       "        vertical-align: middle;\n",
       "    }\n",
       "\n",
       "    .dataframe tbody tr th {\n",
       "        vertical-align: top;\n",
       "    }\n",
       "\n",
       "    .dataframe thead th {\n",
       "        text-align: right;\n",
       "    }\n",
       "</style>\n",
       "<table border=\"1\" class=\"dataframe\">\n",
       "  <thead>\n",
       "    <tr style=\"text-align: right;\">\n",
       "      <th></th>\n",
       "      <th>S.No</th>\n",
       "      <th>Resume Title</th>\n",
       "      <th>Work Exp</th>\n",
       "      <th>Annual Salary</th>\n",
       "      <th>Current Location</th>\n",
       "      <th>Preferred Location</th>\n",
       "      <th>Designation</th>\n",
       "      <th>U.G. Course</th>\n",
       "      <th>P. G. Course</th>\n",
       "      <th>Post P. G. Course</th>\n",
       "      <th>Age/Date of Birth</th>\n",
       "      <th>Resume ID</th>\n",
       "      <th>Last Active Date</th>\n",
       "    </tr>\n",
       "  </thead>\n",
       "  <tbody>\n",
       "    <tr>\n",
       "      <th>0</th>\n",
       "      <td>1</td>\n",
       "      <td>Experienced Dermatologist with 5 years plus ex...</td>\n",
       "      <td>5.8</td>\n",
       "      <td>10.0</td>\n",
       "      <td>Kolkata</td>\n",
       "      <td>Kolkata</td>\n",
       "      <td>NaN</td>\n",
       "      <td>Mbbs</td>\n",
       "      <td>Md Dermatology</td>\n",
       "      <td>Dr</td>\n",
       "      <td>40.0</td>\n",
       "      <td>0c264007658bd1c224</td>\n",
       "      <td>2016</td>\n",
       "    </tr>\n",
       "    <tr>\n",
       "      <th>1</th>\n",
       "      <td>2</td>\n",
       "      <td>M.B.B.S.,D.D.V.(Skin) with 5 yrs experience.</td>\n",
       "      <td>5.0</td>\n",
       "      <td>10.5</td>\n",
       "      <td>Dubai</td>\n",
       "      <td>Dubai</td>\n",
       "      <td>Consultant Dermatologist And Cosmetologist</td>\n",
       "      <td>Mbbs</td>\n",
       "      <td>Pg Diploma</td>\n",
       "      <td>NaN</td>\n",
       "      <td>40.0</td>\n",
       "      <td>3697d8852652123c53</td>\n",
       "      <td>2014</td>\n",
       "    </tr>\n",
       "    <tr>\n",
       "      <th>2</th>\n",
       "      <td>3</td>\n",
       "      <td>MBBS, D.V.D &amp; DNB (Dermatology) with 7 yrs exp...</td>\n",
       "      <td>8.2</td>\n",
       "      <td>30.0</td>\n",
       "      <td>Dubai</td>\n",
       "      <td>All India</td>\n",
       "      <td>Dermatologist</td>\n",
       "      <td>Mbbs</td>\n",
       "      <td>Dnb</td>\n",
       "      <td>NaN</td>\n",
       "      <td>48.0</td>\n",
       "      <td>4b98d6db4fc0b5b012</td>\n",
       "      <td>2009</td>\n",
       "    </tr>\n",
       "    <tr>\n",
       "      <th>3</th>\n",
       "      <td>4</td>\n",
       "      <td>MBBS; DNB, FCPS,DDV with 6yrs of Exp.</td>\n",
       "      <td>7.0</td>\n",
       "      <td>9.6</td>\n",
       "      <td>Mumbai</td>\n",
       "      <td>Mumbai</td>\n",
       "      <td>NaN</td>\n",
       "      <td>Mbbs</td>\n",
       "      <td>Dnb Dermatology</td>\n",
       "      <td>D.d.v</td>\n",
       "      <td>41.0</td>\n",
       "      <td>59063066742215cd70</td>\n",
       "      <td>2013</td>\n",
       "    </tr>\n",
       "    <tr>\n",
       "      <th>4</th>\n",
       "      <td>5</td>\n",
       "      <td>Medical and cosmetic dermatology and dermatosu...</td>\n",
       "      <td>10.0</td>\n",
       "      <td>15.0</td>\n",
       "      <td>New Delhi</td>\n",
       "      <td>Delhi / Ncr</td>\n",
       "      <td>Consultant Dermatologist And Cosmetologist</td>\n",
       "      <td>Mbbs</td>\n",
       "      <td>Pg Diploma</td>\n",
       "      <td>NaN</td>\n",
       "      <td>40.0</td>\n",
       "      <td>1aea93342d8c652a71</td>\n",
       "      <td>2018</td>\n",
       "    </tr>\n",
       "  </tbody>\n",
       "</table>\n",
       "</div>"
      ],
      "text/plain": [
       "   S.No                                       Resume Title  Work Exp  \\\n",
       "0     1  Experienced Dermatologist with 5 years plus ex...       5.8   \n",
       "1     2       M.B.B.S.,D.D.V.(Skin) with 5 yrs experience.       5.0   \n",
       "2     3  MBBS, D.V.D & DNB (Dermatology) with 7 yrs exp...       8.2   \n",
       "3     4              MBBS; DNB, FCPS,DDV with 6yrs of Exp.       7.0   \n",
       "4     5  Medical and cosmetic dermatology and dermatosu...      10.0   \n",
       "\n",
       "   Annual Salary Current Location Preferred Location  \\\n",
       "0           10.0          Kolkata            Kolkata   \n",
       "1           10.5            Dubai              Dubai   \n",
       "2           30.0            Dubai          All India   \n",
       "3            9.6           Mumbai             Mumbai   \n",
       "4           15.0        New Delhi        Delhi / Ncr   \n",
       "\n",
       "                                  Designation U.G. Course     P. G. Course  \\\n",
       "0                                         NaN        Mbbs   Md Dermatology   \n",
       "1  Consultant Dermatologist And Cosmetologist        Mbbs       Pg Diploma   \n",
       "2                               Dermatologist        Mbbs              Dnb   \n",
       "3                                         NaN        Mbbs  Dnb Dermatology   \n",
       "4  Consultant Dermatologist And Cosmetologist        Mbbs       Pg Diploma   \n",
       "\n",
       "  Post P. G. Course  Age/Date of Birth           Resume ID  Last Active Date  \n",
       "0                Dr               40.0  0c264007658bd1c224              2016  \n",
       "1               NaN               40.0  3697d8852652123c53              2014  \n",
       "2               NaN               48.0  4b98d6db4fc0b5b012              2009  \n",
       "3             D.d.v               41.0  59063066742215cd70              2013  \n",
       "4               NaN               40.0  1aea93342d8c652a71              2018  "
      ]
     },
     "execution_count": 3,
     "metadata": {},
     "output_type": "execute_result"
    }
   ],
   "source": [
    "df = pd.read_csv(\"Doctors job dataset.csv\")\n",
    "df.head()"
   ]
  },
  {
   "cell_type": "markdown",
   "metadata": {},
   "source": [
    "DESCRIPTIVE STATISTICS"
   ]
  },
  {
   "cell_type": "code",
   "execution_count": 4,
   "metadata": {},
   "outputs": [
    {
     "data": {
      "text/plain": [
       "(399, 13)"
      ]
     },
     "execution_count": 4,
     "metadata": {},
     "output_type": "execute_result"
    }
   ],
   "source": [
    "df.shape"
   ]
  },
  {
   "cell_type": "code",
   "execution_count": 5,
   "metadata": {},
   "outputs": [
    {
     "name": "stdout",
     "output_type": "stream",
     "text": [
      "<class 'pandas.core.frame.DataFrame'>\n",
      "RangeIndex: 399 entries, 0 to 398\n",
      "Data columns (total 13 columns):\n",
      " #   Column              Non-Null Count  Dtype  \n",
      "---  ------              --------------  -----  \n",
      " 0   S.No                399 non-null    int64  \n",
      " 1   Resume Title        394 non-null    object \n",
      " 2   Work Exp            399 non-null    float64\n",
      " 3   Annual Salary       399 non-null    float64\n",
      " 4   Current Location    399 non-null    object \n",
      " 5   Preferred Location  399 non-null    object \n",
      " 6   Designation         361 non-null    object \n",
      " 7   U.G. Course         399 non-null    object \n",
      " 8   P. G. Course        399 non-null    object \n",
      " 9   Post P. G. Course   66 non-null     object \n",
      " 10  Age/Date of Birth   333 non-null    float64\n",
      " 11  Resume ID           399 non-null    object \n",
      " 12  Last Active Date    399 non-null    int64  \n",
      "dtypes: float64(3), int64(2), object(8)\n",
      "memory usage: 40.6+ KB\n"
     ]
    },
    {
     "data": {
      "text/html": [
       "<div>\n",
       "<style scoped>\n",
       "    .dataframe tbody tr th:only-of-type {\n",
       "        vertical-align: middle;\n",
       "    }\n",
       "\n",
       "    .dataframe tbody tr th {\n",
       "        vertical-align: top;\n",
       "    }\n",
       "\n",
       "    .dataframe thead th {\n",
       "        text-align: right;\n",
       "    }\n",
       "</style>\n",
       "<table border=\"1\" class=\"dataframe\">\n",
       "  <thead>\n",
       "    <tr style=\"text-align: right;\">\n",
       "      <th></th>\n",
       "      <th>S.No</th>\n",
       "      <th>Work Exp</th>\n",
       "      <th>Annual Salary</th>\n",
       "      <th>Age/Date of Birth</th>\n",
       "      <th>Last Active Date</th>\n",
       "    </tr>\n",
       "  </thead>\n",
       "  <tbody>\n",
       "    <tr>\n",
       "      <th>count</th>\n",
       "      <td>399.000000</td>\n",
       "      <td>399.000000</td>\n",
       "      <td>399.000000</td>\n",
       "      <td>333.000000</td>\n",
       "      <td>399.000000</td>\n",
       "    </tr>\n",
       "    <tr>\n",
       "      <th>mean</th>\n",
       "      <td>201.864662</td>\n",
       "      <td>9.738596</td>\n",
       "      <td>15.104787</td>\n",
       "      <td>37.912913</td>\n",
       "      <td>2020.345865</td>\n",
       "    </tr>\n",
       "    <tr>\n",
       "      <th>std</th>\n",
       "      <td>116.417446</td>\n",
       "      <td>5.149676</td>\n",
       "      <td>14.518807</td>\n",
       "      <td>5.304145</td>\n",
       "      <td>1.328345</td>\n",
       "    </tr>\n",
       "    <tr>\n",
       "      <th>min</th>\n",
       "      <td>1.000000</td>\n",
       "      <td>5.000000</td>\n",
       "      <td>0.000000</td>\n",
       "      <td>22.000000</td>\n",
       "      <td>2009.000000</td>\n",
       "    </tr>\n",
       "    <tr>\n",
       "      <th>25%</th>\n",
       "      <td>101.500000</td>\n",
       "      <td>6.000000</td>\n",
       "      <td>6.000000</td>\n",
       "      <td>34.000000</td>\n",
       "      <td>2020.000000</td>\n",
       "    </tr>\n",
       "    <tr>\n",
       "      <th>50%</th>\n",
       "      <td>202.000000</td>\n",
       "      <td>8.000000</td>\n",
       "      <td>12.000000</td>\n",
       "      <td>37.000000</td>\n",
       "      <td>2021.000000</td>\n",
       "    </tr>\n",
       "    <tr>\n",
       "      <th>75%</th>\n",
       "      <td>302.500000</td>\n",
       "      <td>12.000000</td>\n",
       "      <td>20.000000</td>\n",
       "      <td>41.000000</td>\n",
       "      <td>2021.000000</td>\n",
       "    </tr>\n",
       "    <tr>\n",
       "      <th>max</th>\n",
       "      <td>403.000000</td>\n",
       "      <td>31.000000</td>\n",
       "      <td>101.000000</td>\n",
       "      <td>51.000000</td>\n",
       "      <td>2021.000000</td>\n",
       "    </tr>\n",
       "  </tbody>\n",
       "</table>\n",
       "</div>"
      ],
      "text/plain": [
       "             S.No    Work Exp  Annual Salary  Age/Date of Birth  \\\n",
       "count  399.000000  399.000000     399.000000         333.000000   \n",
       "mean   201.864662    9.738596      15.104787          37.912913   \n",
       "std    116.417446    5.149676      14.518807           5.304145   \n",
       "min      1.000000    5.000000       0.000000          22.000000   \n",
       "25%    101.500000    6.000000       6.000000          34.000000   \n",
       "50%    202.000000    8.000000      12.000000          37.000000   \n",
       "75%    302.500000   12.000000      20.000000          41.000000   \n",
       "max    403.000000   31.000000     101.000000          51.000000   \n",
       "\n",
       "       Last Active Date  \n",
       "count        399.000000  \n",
       "mean        2020.345865  \n",
       "std            1.328345  \n",
       "min         2009.000000  \n",
       "25%         2020.000000  \n",
       "50%         2021.000000  \n",
       "75%         2021.000000  \n",
       "max         2021.000000  "
      ]
     },
     "execution_count": 5,
     "metadata": {},
     "output_type": "execute_result"
    }
   ],
   "source": [
    "df.info()\n",
    "df.describe()"
   ]
  },
  {
   "cell_type": "code",
   "execution_count": 6,
   "metadata": {},
   "outputs": [
    {
     "data": {
      "text/plain": [
       "S.No                  False\n",
       "Resume Title           True\n",
       "Work Exp              False\n",
       "Annual Salary         False\n",
       "Current Location      False\n",
       "Preferred Location    False\n",
       "Designation            True\n",
       "U.G. Course           False\n",
       "P. G. Course          False\n",
       "Post P. G. Course      True\n",
       "Age/Date of Birth      True\n",
       "Resume ID             False\n",
       "Last Active Date      False\n",
       "dtype: bool"
      ]
     },
     "execution_count": 6,
     "metadata": {},
     "output_type": "execute_result"
    }
   ],
   "source": [
    "df.isnull().any()"
   ]
  },
  {
   "cell_type": "code",
   "execution_count": 7,
   "metadata": {},
   "outputs": [
    {
     "data": {
      "text/plain": [
       "S.No                    0\n",
       "Resume Title            5\n",
       "Work Exp                0\n",
       "Annual Salary           0\n",
       "Current Location        0\n",
       "Preferred Location      0\n",
       "Designation            38\n",
       "U.G. Course             0\n",
       "P. G. Course            0\n",
       "Post P. G. Course     333\n",
       "Age/Date of Birth      66\n",
       "Resume ID               0\n",
       "Last Active Date        0\n",
       "dtype: int64"
      ]
     },
     "execution_count": 7,
     "metadata": {},
     "output_type": "execute_result"
    }
   ],
   "source": [
    "df.isnull().sum()"
   ]
  },
  {
   "cell_type": "code",
   "execution_count": 8,
   "metadata": {},
   "outputs": [
    {
     "data": {
      "text/html": [
       "<div>\n",
       "<style scoped>\n",
       "    .dataframe tbody tr th:only-of-type {\n",
       "        vertical-align: middle;\n",
       "    }\n",
       "\n",
       "    .dataframe tbody tr th {\n",
       "        vertical-align: top;\n",
       "    }\n",
       "\n",
       "    .dataframe thead th {\n",
       "        text-align: right;\n",
       "    }\n",
       "</style>\n",
       "<table border=\"1\" class=\"dataframe\">\n",
       "  <thead>\n",
       "    <tr style=\"text-align: right;\">\n",
       "      <th></th>\n",
       "      <th>S.No</th>\n",
       "      <th>Resume Title</th>\n",
       "      <th>Work Exp</th>\n",
       "      <th>Annual Salary</th>\n",
       "      <th>Current Location</th>\n",
       "      <th>Preferred Location</th>\n",
       "      <th>Designation</th>\n",
       "      <th>U.G. Course</th>\n",
       "      <th>P. G. Course</th>\n",
       "      <th>Post P. G. Course</th>\n",
       "      <th>Age/Date of Birth</th>\n",
       "      <th>Resume ID</th>\n",
       "      <th>Last Active Date</th>\n",
       "    </tr>\n",
       "  </thead>\n",
       "  <tbody>\n",
       "    <tr>\n",
       "      <th>0</th>\n",
       "      <td>1</td>\n",
       "      <td>Experienced Dermatologist with 5 years plus ex...</td>\n",
       "      <td>5.8</td>\n",
       "      <td>10.0</td>\n",
       "      <td>Kolkata</td>\n",
       "      <td>Kolkata</td>\n",
       "      <td>NaN</td>\n",
       "      <td>Mbbs</td>\n",
       "      <td>Md Dermatology</td>\n",
       "      <td>Dr</td>\n",
       "      <td>40.0</td>\n",
       "      <td>0c264007658bd1c224</td>\n",
       "      <td>2016</td>\n",
       "    </tr>\n",
       "    <tr>\n",
       "      <th>1</th>\n",
       "      <td>2</td>\n",
       "      <td>M.B.B.S.,D.D.V.(Skin) with 5 yrs experience.</td>\n",
       "      <td>5.0</td>\n",
       "      <td>10.5</td>\n",
       "      <td>Dubai</td>\n",
       "      <td>Dubai</td>\n",
       "      <td>Consultant Dermatologist And Cosmetologist</td>\n",
       "      <td>Mbbs</td>\n",
       "      <td>Pg Diploma</td>\n",
       "      <td>NaN</td>\n",
       "      <td>40.0</td>\n",
       "      <td>3697d8852652123c53</td>\n",
       "      <td>2014</td>\n",
       "    </tr>\n",
       "    <tr>\n",
       "      <th>2</th>\n",
       "      <td>3</td>\n",
       "      <td>MBBS, D.V.D &amp; DNB (Dermatology) with 7 yrs exp...</td>\n",
       "      <td>8.2</td>\n",
       "      <td>30.0</td>\n",
       "      <td>Dubai</td>\n",
       "      <td>All India</td>\n",
       "      <td>Dermatologist</td>\n",
       "      <td>Mbbs</td>\n",
       "      <td>Dnb</td>\n",
       "      <td>NaN</td>\n",
       "      <td>48.0</td>\n",
       "      <td>4b98d6db4fc0b5b012</td>\n",
       "      <td>2009</td>\n",
       "    </tr>\n",
       "    <tr>\n",
       "      <th>3</th>\n",
       "      <td>4</td>\n",
       "      <td>MBBS; DNB, FCPS,DDV with 6yrs of Exp.</td>\n",
       "      <td>7.0</td>\n",
       "      <td>9.6</td>\n",
       "      <td>Mumbai</td>\n",
       "      <td>Mumbai</td>\n",
       "      <td>NaN</td>\n",
       "      <td>Mbbs</td>\n",
       "      <td>Dnb Dermatology</td>\n",
       "      <td>D.d.v</td>\n",
       "      <td>41.0</td>\n",
       "      <td>59063066742215cd70</td>\n",
       "      <td>2013</td>\n",
       "    </tr>\n",
       "    <tr>\n",
       "      <th>4</th>\n",
       "      <td>5</td>\n",
       "      <td>Medical and cosmetic dermatology and dermatosu...</td>\n",
       "      <td>10.0</td>\n",
       "      <td>15.0</td>\n",
       "      <td>New Delhi</td>\n",
       "      <td>Delhi / Ncr</td>\n",
       "      <td>Consultant Dermatologist And Cosmetologist</td>\n",
       "      <td>Mbbs</td>\n",
       "      <td>Pg Diploma</td>\n",
       "      <td>NaN</td>\n",
       "      <td>40.0</td>\n",
       "      <td>1aea93342d8c652a71</td>\n",
       "      <td>2018</td>\n",
       "    </tr>\n",
       "  </tbody>\n",
       "</table>\n",
       "</div>"
      ],
      "text/plain": [
       "   S.No                                       Resume Title  Work Exp  \\\n",
       "0     1  Experienced Dermatologist with 5 years plus ex...       5.8   \n",
       "1     2       M.B.B.S.,D.D.V.(Skin) with 5 yrs experience.       5.0   \n",
       "2     3  MBBS, D.V.D & DNB (Dermatology) with 7 yrs exp...       8.2   \n",
       "3     4              MBBS; DNB, FCPS,DDV with 6yrs of Exp.       7.0   \n",
       "4     5  Medical and cosmetic dermatology and dermatosu...      10.0   \n",
       "\n",
       "   Annual Salary Current Location Preferred Location  \\\n",
       "0           10.0          Kolkata            Kolkata   \n",
       "1           10.5            Dubai              Dubai   \n",
       "2           30.0            Dubai          All India   \n",
       "3            9.6           Mumbai             Mumbai   \n",
       "4           15.0        New Delhi        Delhi / Ncr   \n",
       "\n",
       "                                  Designation U.G. Course     P. G. Course  \\\n",
       "0                                         NaN        Mbbs   Md Dermatology   \n",
       "1  Consultant Dermatologist And Cosmetologist        Mbbs       Pg Diploma   \n",
       "2                               Dermatologist        Mbbs              Dnb   \n",
       "3                                         NaN        Mbbs  Dnb Dermatology   \n",
       "4  Consultant Dermatologist And Cosmetologist        Mbbs       Pg Diploma   \n",
       "\n",
       "  Post P. G. Course  Age/Date of Birth           Resume ID  Last Active Date  \n",
       "0                Dr               40.0  0c264007658bd1c224              2016  \n",
       "1               NaN               40.0  3697d8852652123c53              2014  \n",
       "2               NaN               48.0  4b98d6db4fc0b5b012              2009  \n",
       "3             D.d.v               41.0  59063066742215cd70              2013  \n",
       "4               NaN               40.0  1aea93342d8c652a71              2018  "
      ]
     },
     "execution_count": 8,
     "metadata": {},
     "output_type": "execute_result"
    }
   ],
   "source": [
    "df.head()"
   ]
  },
  {
   "cell_type": "code",
   "execution_count": 9,
   "metadata": {},
   "outputs": [
    {
     "data": {
      "text/plain": [
       "43"
      ]
     },
     "execution_count": 9,
     "metadata": {},
     "output_type": "execute_result"
    }
   ],
   "source": [
    "df['Post P. G. Course'].nunique()"
   ]
  },
  {
   "cell_type": "code",
   "execution_count": 10,
   "metadata": {},
   "outputs": [
    {
     "data": {
      "text/plain": [
       "array(['Dr', nan, 'D.d.v', 'Ph.d/doctorate', 'Md', 'Dnb',\n",
       "       'Mrcgp International', 'Mrcem', 'Pdcc', 'Completed Frcs', 'Dm',\n",
       "       'Fmas , Dmas', 'Dermatology', 'Certificate Course', 'Mbbs Md',\n",
       "       'Diploma Digital Marketing ', 'Clinical Diabetologist', 'Diploma',\n",
       "       'Mbbs,dnb  Internal Medicine', 'Pgdgm',\n",
       "       'Diplomat Of Royal College Of Pathologists, London, Uk',\n",
       "       'Post Graduation In General Practice', 'Other', 'Urogynecologist',\n",
       "       'Mrcpuk', 'M.d.pharmacology', 'Masters In Hospital Administration',\n",
       "       'Iadvl Observership', 'Dmm', 'Public Health', 'Mbbs', 'Dpd',\n",
       "       'Mrcp', 'Dermatologist', 'Successful Aging And End Of Life Care',\n",
       "       'Mbbs, Md', 'Pgdmc', 'Md Dermatology', 'Msc Dermatology',\n",
       "       'Cosmetology', 'Diplomate Of National Board', 'M.d Skin And V.d',\n",
       "       'Fellowship In Aesthetic Medicine', 'M.d.d.v.l'], dtype=object)"
      ]
     },
     "execution_count": 10,
     "metadata": {},
     "output_type": "execute_result"
    }
   ],
   "source": [
    "df['Post P. G. Course'].unique()"
   ]
  },
  {
   "cell_type": "code",
   "execution_count": 11,
   "metadata": {},
   "outputs": [
    {
     "data": {
      "text/html": [
       "<div>\n",
       "<style scoped>\n",
       "    .dataframe tbody tr th:only-of-type {\n",
       "        vertical-align: middle;\n",
       "    }\n",
       "\n",
       "    .dataframe tbody tr th {\n",
       "        vertical-align: top;\n",
       "    }\n",
       "\n",
       "    .dataframe thead th {\n",
       "        text-align: right;\n",
       "    }\n",
       "</style>\n",
       "<table border=\"1\" class=\"dataframe\">\n",
       "  <thead>\n",
       "    <tr style=\"text-align: right;\">\n",
       "      <th></th>\n",
       "      <th>S.No</th>\n",
       "      <th>Resume Title</th>\n",
       "      <th>Work Exp</th>\n",
       "      <th>Annual Salary</th>\n",
       "      <th>Current Location</th>\n",
       "      <th>Preferred Location</th>\n",
       "      <th>Designation</th>\n",
       "      <th>U.G. Course</th>\n",
       "      <th>P. G. Course</th>\n",
       "      <th>Age/Date of Birth</th>\n",
       "      <th>Resume ID</th>\n",
       "      <th>Last Active Date</th>\n",
       "    </tr>\n",
       "  </thead>\n",
       "  <tbody>\n",
       "    <tr>\n",
       "      <th>394</th>\n",
       "      <td>399</td>\n",
       "      <td>dermatologist cosmetologist Hair Transplant su...</td>\n",
       "      <td>10.0</td>\n",
       "      <td>27.0</td>\n",
       "      <td>New Delhi</td>\n",
       "      <td>Uae,india,qatar</td>\n",
       "      <td>Consultant Dermatologist</td>\n",
       "      <td>Mbbs</td>\n",
       "      <td>Dnb Dermatology</td>\n",
       "      <td>NaN</td>\n",
       "      <td>48a7aee24aff97e770</td>\n",
       "      <td>2021</td>\n",
       "    </tr>\n",
       "    <tr>\n",
       "      <th>395</th>\n",
       "      <td>400</td>\n",
       "      <td>Dermatologist Specialist with more than 5 year...</td>\n",
       "      <td>6.0</td>\n",
       "      <td>18.0</td>\n",
       "      <td>Nellore</td>\n",
       "      <td>Qatar,dubai</td>\n",
       "      <td>Specialist Dermatologist Cosmetologist</td>\n",
       "      <td>Mbbs</td>\n",
       "      <td>Medical-ms/md</td>\n",
       "      <td>37.0</td>\n",
       "      <td>fbe7d9e52fa3478687b22b6f8cc741cf</td>\n",
       "      <td>2021</td>\n",
       "    </tr>\n",
       "    <tr>\n",
       "      <th>396</th>\n",
       "      <td>401</td>\n",
       "      <td>Senior Consultant Dermatologist in Kaya Skin C...</td>\n",
       "      <td>12.0</td>\n",
       "      <td>6.0</td>\n",
       "      <td>Hyderabad</td>\n",
       "      <td>Hyderabad</td>\n",
       "      <td>Senior Dermatologist,trichologist And Cosmetol...</td>\n",
       "      <td>Mbbs</td>\n",
       "      <td>Medical-ms/md</td>\n",
       "      <td>44.0</td>\n",
       "      <td>a6699f56eaa14eca9732574fc1f98cc1</td>\n",
       "      <td>2021</td>\n",
       "    </tr>\n",
       "    <tr>\n",
       "      <th>397</th>\n",
       "      <td>402</td>\n",
       "      <td>Dermatologist and cosmetologist, MD Dermatolog...</td>\n",
       "      <td>6.7</td>\n",
       "      <td>30.0</td>\n",
       "      <td>New Delhi</td>\n",
       "      <td>Delhi / Ncr</td>\n",
       "      <td>Consultant Dermatologist</td>\n",
       "      <td>Mbbs</td>\n",
       "      <td>Md Dermatology</td>\n",
       "      <td>31.0</td>\n",
       "      <td>298364e929a641a4b49eafc8a6118cc9</td>\n",
       "      <td>2021</td>\n",
       "    </tr>\n",
       "    <tr>\n",
       "      <th>398</th>\n",
       "      <td>403</td>\n",
       "      <td>Consultant dermatologist and cosmetologist</td>\n",
       "      <td>7.0</td>\n",
       "      <td>18.5</td>\n",
       "      <td>Kolkata</td>\n",
       "      <td>All India</td>\n",
       "      <td>Consultant Dermatologist And Cosmetologist</td>\n",
       "      <td>Mbbs</td>\n",
       "      <td>Medical-ms/md</td>\n",
       "      <td>37.0</td>\n",
       "      <td>6bdc74e953ab19bd24</td>\n",
       "      <td>2021</td>\n",
       "    </tr>\n",
       "  </tbody>\n",
       "</table>\n",
       "</div>"
      ],
      "text/plain": [
       "     S.No                                       Resume Title  Work Exp  \\\n",
       "394   399  dermatologist cosmetologist Hair Transplant su...      10.0   \n",
       "395   400  Dermatologist Specialist with more than 5 year...       6.0   \n",
       "396   401  Senior Consultant Dermatologist in Kaya Skin C...      12.0   \n",
       "397   402  Dermatologist and cosmetologist, MD Dermatolog...       6.7   \n",
       "398   403         Consultant dermatologist and cosmetologist       7.0   \n",
       "\n",
       "     Annual Salary Current Location Preferred Location  \\\n",
       "394           27.0        New Delhi    Uae,india,qatar   \n",
       "395           18.0          Nellore        Qatar,dubai   \n",
       "396            6.0        Hyderabad          Hyderabad   \n",
       "397           30.0        New Delhi        Delhi / Ncr   \n",
       "398           18.5          Kolkata          All India   \n",
       "\n",
       "                                           Designation U.G. Course  \\\n",
       "394                           Consultant Dermatologist        Mbbs   \n",
       "395             Specialist Dermatologist Cosmetologist        Mbbs   \n",
       "396  Senior Dermatologist,trichologist And Cosmetol...        Mbbs   \n",
       "397                           Consultant Dermatologist        Mbbs   \n",
       "398         Consultant Dermatologist And Cosmetologist        Mbbs   \n",
       "\n",
       "        P. G. Course  Age/Date of Birth                         Resume ID  \\\n",
       "394  Dnb Dermatology                NaN                48a7aee24aff97e770   \n",
       "395    Medical-ms/md               37.0  fbe7d9e52fa3478687b22b6f8cc741cf   \n",
       "396    Medical-ms/md               44.0  a6699f56eaa14eca9732574fc1f98cc1   \n",
       "397   Md Dermatology               31.0  298364e929a641a4b49eafc8a6118cc9   \n",
       "398    Medical-ms/md               37.0                6bdc74e953ab19bd24   \n",
       "\n",
       "     Last Active Date  \n",
       "394              2021  \n",
       "395              2021  \n",
       "396              2021  \n",
       "397              2021  \n",
       "398              2021  "
      ]
     },
     "execution_count": 11,
     "metadata": {},
     "output_type": "execute_result"
    }
   ],
   "source": [
    "course = 'Post P. G. Course'\n",
    "df.drop(course, axis=1, inplace=True)\n",
    "df.tail()"
   ]
  },
  {
   "cell_type": "code",
   "execution_count": 12,
   "metadata": {},
   "outputs": [
    {
     "data": {
      "text/plain": [
       "S.No                   0\n",
       "Resume Title           5\n",
       "Work Exp               0\n",
       "Annual Salary          0\n",
       "Current Location       0\n",
       "Preferred Location     0\n",
       "Designation           38\n",
       "U.G. Course            0\n",
       "P. G. Course           0\n",
       "Age/Date of Birth     66\n",
       "Resume ID              0\n",
       "Last Active Date       0\n",
       "dtype: int64"
      ]
     },
     "execution_count": 12,
     "metadata": {},
     "output_type": "execute_result"
    }
   ],
   "source": [
    "df.isnull().sum()"
   ]
  },
  {
   "cell_type": "code",
   "execution_count": 13,
   "metadata": {},
   "outputs": [
    {
     "data": {
      "text/plain": [
       "S.No                   0.000000\n",
       "Resume Title           1.253133\n",
       "Work Exp               0.000000\n",
       "Annual Salary          0.000000\n",
       "Current Location       0.000000\n",
       "Preferred Location     0.000000\n",
       "Designation            9.523810\n",
       "U.G. Course            0.000000\n",
       "P. G. Course           0.000000\n",
       "Age/Date of Birth     16.541353\n",
       "Resume ID              0.000000\n",
       "Last Active Date       0.000000\n",
       "dtype: float64"
      ]
     },
     "execution_count": 13,
     "metadata": {},
     "output_type": "execute_result"
    }
   ],
   "source": [
    "df.isnull().mean()*100"
   ]
  },
  {
   "cell_type": "code",
   "execution_count": 14,
   "metadata": {},
   "outputs": [
    {
     "data": {
      "text/plain": [
       "195"
      ]
     },
     "execution_count": 14,
     "metadata": {},
     "output_type": "execute_result"
    }
   ],
   "source": [
    "df['Designation'].nunique()"
   ]
  },
  {
   "cell_type": "code",
   "execution_count": 15,
   "metadata": {},
   "outputs": [
    {
     "data": {
      "text/plain": [
       "array([nan, 'Consultant Dermatologist And Cosmetologist', 'Dermatologist',\n",
       "       'Consulting Dermatologist', 'Senior Resident',\n",
       "       'Consultant Dermatologist & Cosmetologist',\n",
       "       'Consultant Dermatologist',\n",
       "       'Clinical Head - Aesthetics, India & South Asia',\n",
       "       'Specialist Family Medicine', 'Dermatologist And Cosmetologist',\n",
       "       'Apollo Tele Health Services',\n",
       "       'Senior Consultant  Histopathology And Cytology',\n",
       "       'Deputy Medical Superintendent',\n",
       "       'Consultant And Head Microbiology', 'Skin Consultant',\n",
       "       'Medical Officer', 'Consultant', 'Pathologist', 'Registrar',\n",
       "       'Consultant Gynaecologist And Family Physician',\n",
       "       'Associate Professor', 'Senior Associate',\n",
       "       'Tele Medicine Consultant', 'Hospital Administrator',\n",
       "       'Senior Medical Officer', 'Lt Colonel',\n",
       "       'Assistant Professor, Dermatology', 'Senior Consultant Pathology',\n",
       "       'Drug Safety Physician', 'Radiologist', 'Junior Resident Doctor',\n",
       "       'Director Philanthropy', 'Self Employed', 'Senior Medical Advisor',\n",
       "       'Director - Ethics And Compliance', 'Factory Medical Officer',\n",
       "       'Emergency Physician', 'Assistant Professor', 'Junior Doctor',\n",
       "       'Consultant Medical Affairs', 'Medical Consultant',\n",
       "       'Associate Consultant', 'Associate Medical Expert',\n",
       "       'Manager Scientific Content', 'Senior Consultant', 'Gyanecologist',\n",
       "       'Resident Medical Officer Cardiology',\n",
       "       'Medical Advisor - Manager  Medical Affairs',\n",
       "       'Senior Consultant Dermatologist', 'Associate Director', 'Jordan',\n",
       "       'Product Manager', 'Specialty Doctor In Ophthalmology',\n",
       "       'General Practitioner', 'Jubilant Generics Principal Investigator',\n",
       "       'Clinical Scientific Expert', 'Chief Executive Officer',\n",
       "       'Consultant Pathologist', 'Consultant Gynaecologist',\n",
       "       'Associate Clinical Head', 'Vice President',\n",
       "       'Assistant General Manager-lifesciences And Healthcare',\n",
       "       'Deputy General Manager', 'Subject Matter Expert',\n",
       "       'Medical Director, Global Medical Affairs',\n",
       "       'Associate Director, Operations ', 'General Manager',\n",
       "       'Senior Manager', 'Assistant Cardiologist', 'Deputy Manager',\n",
       "       'Medical Superintendent', 'Anaesthesiologist', 'Lead Consultant',\n",
       "       'General Manager (medical Affairs Department)',\n",
       "       'Assistant Professor -pathology, Lab Medicine',\n",
       "       'Independent Consultant',\n",
       "       'Consultant, Paediatric Research & Medical Education',\n",
       "       'Consultant, Global Clinical Trials',\n",
       "       'Integrator Medical Protocols',\n",
       "       'Associate Director - Global Aggregate Safety',\n",
       "       'Assistant General Manager, Torrent Research Centre', 'Manager',\n",
       "       'Senior Resident Doctor', 'Assistant Professor Pathology',\n",
       "       'Md Pharmacology', 'Consultant Noninvasive Cardiology',\n",
       "       'Junior Resident Doctor, Clinical Data Analyst',\n",
       "       'Sr Nd Free Lancing', 'Consultant Physician',\n",
       "       'Clinical Researcher And Co Investigator ',\n",
       "       'Principal Investigator',\n",
       "       'Assistant Professor Paediatrics Visiting Faculty',\n",
       "       'Consultant Medical Gastroenterologist',\n",
       "       'Emergency Medical Officer', 'Chief Manager',\n",
       "       'Deputy Medical Superintendent, Medical Administration, Hospital Operations ',\n",
       "       'Medical Monitor', 'Medical Advisor',\n",
       "       'Senior Medical Safety Advisor  ', 'Senior Drug Safety Physician',\n",
       "       'Technical Officer', 'Consultant Histopathologist',\n",
       "       'Senior Medical Safety Advisor', 'Specialist',\n",
       "       'Clinic Director/ Team Lead', 'Associate Medical Safety Director',\n",
       "       'Senior Manager And Domain Expert',\n",
       "       'Senior Resident Dm Cardiothoracic Anaesthesia (academic)',\n",
       "       'Attending Consultant',\n",
       "       'Head Of Clinical Services, Diabetologist And Consultant Physician',\n",
       "       'Coordinator Consultant', 'Manager Pharmacovigilance',\n",
       "       'Research Scientist', 'Occupational Site Physician',\n",
       "       'Consultant Urogynecologist Gynecologist',\n",
       "       'Sme Manager -novartis Pv', 'Senior Regitrar',\n",
       "       'Senior Consultant Psychiatrist', 'Family Physician',\n",
       "       '\\nDirector,lab Operations And Senior Consultant Department Of Surgical Pathology And Lab Medi',\n",
       "       'Team Manager, Medical Review', 'Doctor ( Medical Officer )',\n",
       "       'Senior Civil Surgeon', 'General Practice',\n",
       "       'Consultant Pediatrics', 'General Physician', 'Mbbs Doctor',\n",
       "       'Professor', 'Consultant Ob Gyneaec',\n",
       "       'Medical Officer General Physician', 'Consultant Psychiatrist',\n",
       "       'Consultant Microbiologist', 'Chief Medical Officer',\n",
       "       'Group Medical Director ', 'Diabetologist', 'Ent Surgeon',\n",
       "       'Medical Practitioner', 'Senior Gynaecologist Radioligist',\n",
       "       'Regional Manager',\n",
       "       'Senior Director- Clinical Research And Medical Affairs',\n",
       "       'Project Lead',\n",
       "       'Senior Manager, Medical Services, International Business',\n",
       "       'Professor And Head', 'Consultant Anaesthetist', 'Dgo',\n",
       "       'Consultant Paediatrician', 'Senior Manager Medical Writing',\n",
       "       'Mbbs', 'Associate Medical Data Reviewer ', 'Physician',\n",
       "       'Assistant Professor In Dermatology', 'Managing Director & Ceo',\n",
       "       'Senior Medical Consultant', 'Associate Doctor',\n",
       "       'Associate Consultant Dermatologist', 'Senior Registrar',\n",
       "       'Cosmetic Surgeon Plastic Surgeon',\n",
       "       'Senior Consultant Kaya Skin Clinic',\n",
       "       'Senior Manager, Medical Services',\n",
       "       'Manager Medical Innovations & Clinical Research',\n",
       "       'Speciality Medical Officer',\n",
       "       'Staff Registrar, Department Of Dermatology',\n",
       "       'Aesthetic And General Physician',\n",
       "       'Assistant Professor Dermatology ',\n",
       "       'Consultant Dermatolgist And Hair Transplant Surgeon,',\n",
       "       'Aesthetic Physician', 'Consultant Doctor',\n",
       "       'Medical Head And Senior Consultant Dermatologist Ap Telangana',\n",
       "       'Cosmetic Dermatologist And Aesthetic Surgeon',\n",
       "       'Assistant Professor (dermatology) & Consultant (dermatology)',\n",
       "       'Consultant Dermatologist And Hair Transplant Surgeon', 'Doctor',\n",
       "       'Specialist  Dermatologist', 'Consultant Dermatologists ',\n",
       "       'Consultant Dermatologist Cosmetologist',\n",
       "       'Consultant Dermatologist, Cosmetologist',\n",
       "       'Dermatologist & Hair Transplant Surgeon',\n",
       "       'Consultant Dermatologist-cosmetologist', 'Director', 'Mbbs, Dvd',\n",
       "       'Specialist Dermatologist',\n",
       "       'Senior Consultant Dermatologist And Cosmetologist',\n",
       "       'Deematologist & Cosmetologist',\n",
       "       'Senior Consultant .dermatology Cosmetology',\n",
       "       'Consultant And Assistant Professor',\n",
       "       'Post Doctoral Fellow In Cosmetology',\n",
       "       'Consultant In Dermatologist Anf Cosmetology',\n",
       "       'Dermatology Specialist', 'Associate Professor,  Aiims Raebareli',\n",
       "       'Dermatologist And Cosmotologist',\n",
       "       'Dermatogolist And Cosmetologist',\n",
       "       'Consultant Cosmetic Dermatologist',\n",
       "       'Consulting Physician Consultant Cosmetologist  Clinical Dermatologist',\n",
       "       'Specialist Dermatologist And Cosmetologist',\n",
       "       'Specialist Dermatologist Cosmetologist',\n",
       "       'Senior Dermatologist,trichologist And Cosmetologist'],\n",
       "      dtype=object)"
      ]
     },
     "execution_count": 15,
     "metadata": {},
     "output_type": "execute_result"
    }
   ],
   "source": [
    "df['Designation'].unique()"
   ]
  },
  {
   "cell_type": "markdown",
   "metadata": {},
   "source": [
    "UNIVARIATE ANALYSIS"
   ]
  },
  {
   "cell_type": "code",
   "execution_count": 16,
   "metadata": {},
   "outputs": [
    {
     "name": "stderr",
     "output_type": "stream",
     "text": [
      "C:\\Users\\AMIT KUMAR BHADRA\\AppData\\Local\\Temp\\ipykernel_11156\\3867061911.py:2: UserWarning: \n",
      "\n",
      "`distplot` is a deprecated function and will be removed in seaborn v0.14.0.\n",
      "\n",
      "Please adapt your code to use either `displot` (a figure-level function with\n",
      "similar flexibility) or `histplot` (an axes-level function for histograms).\n",
      "\n",
      "For a guide to updating your code to use the new functions, please see\n",
      "https://gist.github.com/mwaskom/de44147ed2974457ad6372750bbe5751\n",
      "\n",
      "  sns.distplot(df['Age/Date of Birth'])\n"
     ]
    },
    {
     "data": {
      "text/plain": [
       "<Axes: xlabel='Age/Date of Birth', ylabel='Density'>"
      ]
     },
     "execution_count": 16,
     "metadata": {},
     "output_type": "execute_result"
    },
    {
     "data": {
      "image/png": "[encoded data removed]",
      "text/plain": [
       "<Figure size 640x480 with 1 Axes>"
      ]
     },
     "metadata": {},
     "output_type": "display_data"
    }
   ],
   "source": [
    "import seaborn as sns\n",
    "sns.distplot(df['Age/Date of Birth'])"
   ]
  },
  {
   "cell_type": "code",
   "execution_count": 19,
   "metadata": {},
   "outputs": [
    {
     "name": "stderr",
     "output_type": "stream",
     "text": [
      "C:\\Users\\AMIT KUMAR BHADRA\\AppData\\Local\\Temp\\ipykernel_11156\\470341474.py:1: UserWarning: \n",
      "\n",
      "`distplot` is a deprecated function and will be removed in seaborn v0.14.0.\n",
      "\n",
      "Please adapt your code to use either `displot` (a figure-level function with\n",
      "similar flexibility) or `histplot` (an axes-level function for histograms).\n",
      "\n",
      "For a guide to updating your code to use the new functions, please see\n",
      "https://gist.github.com/mwaskom/de44147ed2974457ad6372750bbe5751\n",
      "\n",
      "  sns.distplot(df['U.G. Course'])\n"
     ]
    },
    {
     "ename": "ValueError",
     "evalue": "could not convert string to float: 'Mbbs'",
     "output_type": "error",
     "traceback": [
      "\u001b[1;31m---------------------------------------------------------------------------\u001b[0m",
      "\u001b[1;31mValueError\u001b[0m                                Traceback (most recent call last)",
      "\u001b[1;32mc:\\Users\\AMIT KUMAR BHADRA\\Documents\\Machine Learning\\Project\\Project Development Phase\\doctors_Annual_salary_pred.ipynb Cell 18\u001b[0m line \u001b[0;36m1\n\u001b[1;32m----> <a href='vscode-notebook-cell:/c%3A/Users/AMIT%20KUMAR%20BHADRA/Documents/Machine%20Learning/Project/Project%20Development%20Phase/doctors_Annual_salary_pred.ipynb#X23sZmlsZQ%3D%3D?line=0'>1</a>\u001b[0m sns\u001b[39m.\u001b[39;49mdistplot(df[\u001b[39m'\u001b[39;49m\u001b[39mU.G. Course\u001b[39;49m\u001b[39m'\u001b[39;49m])\n",
      "File \u001b[1;32mc:\\Users\\AMIT KUMAR BHADRA\\AppData\\Local\\Programs\\Python\\Python39\\lib\\site-packages\\seaborn\\distributions.py:2443\u001b[0m, in \u001b[0;36mdistplot\u001b[1;34m(a, bins, hist, kde, rug, fit, hist_kws, kde_kws, rug_kws, fit_kws, color, vertical, norm_hist, axlabel, label, ax, x)\u001b[0m\n\u001b[0;32m   2440\u001b[0m     a \u001b[39m=\u001b[39m x\n\u001b[0;32m   2442\u001b[0m \u001b[39m# Make a a 1-d float array\u001b[39;00m\n\u001b[1;32m-> 2443\u001b[0m a \u001b[39m=\u001b[39m np\u001b[39m.\u001b[39;49masarray(a, \u001b[39mfloat\u001b[39;49m)\n\u001b[0;32m   2444\u001b[0m \u001b[39mif\u001b[39;00m a\u001b[39m.\u001b[39mndim \u001b[39m>\u001b[39m \u001b[39m1\u001b[39m:\n\u001b[0;32m   2445\u001b[0m     a \u001b[39m=\u001b[39m a\u001b[39m.\u001b[39msqueeze()\n",
      "File \u001b[1;32mc:\\Users\\AMIT KUMAR BHADRA\\AppData\\Local\\Programs\\Python\\Python39\\lib\\site-packages\\pandas\\core\\series.py:953\u001b[0m, in \u001b[0;36mSeries.__array__\u001b[1;34m(self, dtype)\u001b[0m\n\u001b[0;32m    906\u001b[0m \u001b[39m\"\"\"\u001b[39;00m\n\u001b[0;32m    907\u001b[0m \u001b[39mReturn the values as a NumPy array.\u001b[39;00m\n\u001b[0;32m    908\u001b[0m \n\u001b[1;32m   (...)\u001b[0m\n\u001b[0;32m    950\u001b[0m \u001b[39m      dtype='datetime64[ns]')\u001b[39;00m\n\u001b[0;32m    951\u001b[0m \u001b[39m\"\"\"\u001b[39;00m\n\u001b[0;32m    952\u001b[0m values \u001b[39m=\u001b[39m \u001b[39mself\u001b[39m\u001b[39m.\u001b[39m_values\n\u001b[1;32m--> 953\u001b[0m arr \u001b[39m=\u001b[39m np\u001b[39m.\u001b[39;49masarray(values, dtype\u001b[39m=\u001b[39;49mdtype)\n\u001b[0;32m    954\u001b[0m \u001b[39mif\u001b[39;00m using_copy_on_write() \u001b[39mand\u001b[39;00m astype_is_view(values\u001b[39m.\u001b[39mdtype, arr\u001b[39m.\u001b[39mdtype):\n\u001b[0;32m    955\u001b[0m     arr \u001b[39m=\u001b[39m arr\u001b[39m.\u001b[39mview()\n",
      "\u001b[1;31mValueError\u001b[0m: could not convert string to float: 'Mbbs'"
     ]
    },
    {
     "data": {
      "image/png": "[encoded data removed]",
      "text/plain": [
       "<Figure size 640x480 with 1 Axes>"
      ]
     },
     "metadata": {},
     "output_type": "display_data"
    }
   ],
   "source": [
    "sns.distplot(df['U.G. Course'])"
   ]
  },
  {
   "cell_type": "markdown",
   "metadata": {},
   "source": [
    "BIVARIATE ANALYSIS"
   ]
  },
  {
   "cell_type": "code",
   "execution_count": null,
   "metadata": {},
   "outputs": [
    {
     "data": {
      "text/plain": [
       "<Axes: xlabel='Age/Date of Birth', ylabel='Work Exp'>"
      ]
     },
     "execution_count": 426,
     "metadata": {},
     "output_type": "execute_result"
    },
    {
     "data": {
      "image/png": "[encoded data removed]",
      "text/plain": [
       "<Figure size 640x480 with 1 Axes>"
      ]
     },
     "metadata": {},
     "output_type": "display_data"
    }
   ],
   "source": [
    "sns.lineplot(x = df['Age/Date of Birth'], y =df['Work Exp'])"
   ]
  },
  {
   "cell_type": "code",
   "execution_count": null,
   "metadata": {},
   "outputs": [
    {
     "data": {
      "text/plain": [
       "0    Consultant Dermatologist\n",
       "Name: Designation, dtype: object"
      ]
     },
     "execution_count": 353,
     "metadata": {},
     "output_type": "execute_result"
    }
   ],
   "source": [
    "df['Designation'].mode()"
   ]
  },
  {
   "cell_type": "markdown",
   "metadata": {},
   "source": [
    "replacing the most frequent values in the categorical missing values"
   ]
  },
  {
   "cell_type": "code",
   "execution_count": null,
   "metadata": {},
   "outputs": [
    {
     "data": {
      "text/plain": [
       "S.No                   0\n",
       "Resume Title           5\n",
       "Work Exp               0\n",
       "Annual Salary          0\n",
       "Current Location       0\n",
       "Preferred Location     0\n",
       "Designation            0\n",
       "U.G. Course            0\n",
       "P. G. Course           0\n",
       "Age/Date of Birth     66\n",
       "Resume ID              0\n",
       "Last Active Date       0\n",
       "dtype: int64"
      ]
     },
     "execution_count": 354,
     "metadata": {},
     "output_type": "execute_result"
    }
   ],
   "source": [
    "df['Designation'].fillna('Consultant Dermatologist', inplace = True)\n",
    "df.isnull().sum()"
   ]
  },
  {
   "cell_type": "code",
   "execution_count": null,
   "metadata": {},
   "outputs": [
    {
     "data": {
      "text/plain": [
       "0    Dermatologist\n",
       "Name: Resume Title, dtype: object"
      ]
     },
     "execution_count": 355,
     "metadata": {},
     "output_type": "execute_result"
    }
   ],
   "source": [
    "df['Resume Title'].mode()"
   ]
  },
  {
   "cell_type": "code",
   "execution_count": null,
   "metadata": {},
   "outputs": [
    {
     "data": {
      "text/plain": [
       "S.No                   0\n",
       "Resume Title           0\n",
       "Work Exp               0\n",
       "Annual Salary          0\n",
       "Current Location       0\n",
       "Preferred Location     0\n",
       "Designation            0\n",
       "U.G. Course            0\n",
       "P. G. Course           0\n",
       "Age/Date of Birth     66\n",
       "Resume ID              0\n",
       "Last Active Date       0\n",
       "dtype: int64"
      ]
     },
     "execution_count": 356,
     "metadata": {},
     "output_type": "execute_result"
    }
   ],
   "source": [
    "df['Resume Title'].fillna('Dermatologist', inplace = True)\n",
    "df.isnull().sum()"
   ]
  },
  {
   "cell_type": "code",
   "execution_count": null,
   "metadata": {},
   "outputs": [
    {
     "data": {
      "text/plain": [
       "S.No                  0\n",
       "Resume Title          0\n",
       "Work Exp              0\n",
       "Annual Salary         0\n",
       "Current Location      0\n",
       "Preferred Location    0\n",
       "Designation           0\n",
       "U.G. Course           0\n",
       "P. G. Course          0\n",
       "Age/Date of Birth     0\n",
       "Resume ID             0\n",
       "Last Active Date      0\n",
       "dtype: int64"
      ]
     },
     "execution_count": 357,
     "metadata": {},
     "output_type": "execute_result"
    }
   ],
   "source": [
    "# filling numerical values with median \n",
    "df = df.fillna(value = df['Age/Date of Birth'].median())\n",
    "df.isnull().sum()"
   ]
  },
  {
   "cell_type": "code",
   "execution_count": null,
   "metadata": {},
   "outputs": [
    {
     "data": {
      "text/html": [
       "<div>\n",
       "<style scoped>\n",
       "    .dataframe tbody tr th:only-of-type {\n",
       "        vertical-align: middle;\n",
       "    }\n",
       "\n",
       "    .dataframe tbody tr th {\n",
       "        vertical-align: top;\n",
       "    }\n",
       "\n",
       "    .dataframe thead th {\n",
       "        text-align: right;\n",
       "    }\n",
       "</style>\n",
       "<table border=\"1\" class=\"dataframe\">\n",
       "  <thead>\n",
       "    <tr style=\"text-align: right;\">\n",
       "      <th></th>\n",
       "      <th>S.No</th>\n",
       "      <th>Resume Title</th>\n",
       "      <th>Work Exp</th>\n",
       "      <th>Annual Salary</th>\n",
       "      <th>Current Location</th>\n",
       "      <th>Preferred Location</th>\n",
       "      <th>Designation</th>\n",
       "      <th>U.G. Course</th>\n",
       "      <th>P. G. Course</th>\n",
       "      <th>Age/Date of Birth</th>\n",
       "      <th>Resume ID</th>\n",
       "      <th>Last Active Date</th>\n",
       "    </tr>\n",
       "  </thead>\n",
       "  <tbody>\n",
       "    <tr>\n",
       "      <th>0</th>\n",
       "      <td>1</td>\n",
       "      <td>Experienced Dermatologist with 5 years plus ex...</td>\n",
       "      <td>5.8</td>\n",
       "      <td>10.0</td>\n",
       "      <td>Kolkata</td>\n",
       "      <td>Kolkata</td>\n",
       "      <td>Consultant Dermatologist</td>\n",
       "      <td>Mbbs</td>\n",
       "      <td>Md Dermatology</td>\n",
       "      <td>40.0</td>\n",
       "      <td>0c264007658bd1c224</td>\n",
       "      <td>2016</td>\n",
       "    </tr>\n",
       "    <tr>\n",
       "      <th>1</th>\n",
       "      <td>2</td>\n",
       "      <td>M.B.B.S.,D.D.V.(Skin) with 5 yrs experience.</td>\n",
       "      <td>5.0</td>\n",
       "      <td>10.5</td>\n",
       "      <td>Dubai</td>\n",
       "      <td>Dubai</td>\n",
       "      <td>Consultant Dermatologist And Cosmetologist</td>\n",
       "      <td>Mbbs</td>\n",
       "      <td>Pg Diploma</td>\n",
       "      <td>40.0</td>\n",
       "      <td>3697d8852652123c53</td>\n",
       "      <td>2014</td>\n",
       "    </tr>\n",
       "    <tr>\n",
       "      <th>2</th>\n",
       "      <td>3</td>\n",
       "      <td>MBBS, D.V.D &amp; DNB (Dermatology) with 7 yrs exp...</td>\n",
       "      <td>8.2</td>\n",
       "      <td>30.0</td>\n",
       "      <td>Dubai</td>\n",
       "      <td>All India</td>\n",
       "      <td>Dermatologist</td>\n",
       "      <td>Mbbs</td>\n",
       "      <td>Dnb</td>\n",
       "      <td>48.0</td>\n",
       "      <td>4b98d6db4fc0b5b012</td>\n",
       "      <td>2009</td>\n",
       "    </tr>\n",
       "    <tr>\n",
       "      <th>3</th>\n",
       "      <td>4</td>\n",
       "      <td>MBBS; DNB, FCPS,DDV with 6yrs of Exp.</td>\n",
       "      <td>7.0</td>\n",
       "      <td>9.6</td>\n",
       "      <td>Mumbai</td>\n",
       "      <td>Mumbai</td>\n",
       "      <td>Consultant Dermatologist</td>\n",
       "      <td>Mbbs</td>\n",
       "      <td>Dnb Dermatology</td>\n",
       "      <td>41.0</td>\n",
       "      <td>59063066742215cd70</td>\n",
       "      <td>2013</td>\n",
       "    </tr>\n",
       "    <tr>\n",
       "      <th>4</th>\n",
       "      <td>5</td>\n",
       "      <td>Medical and cosmetic dermatology and dermatosu...</td>\n",
       "      <td>10.0</td>\n",
       "      <td>15.0</td>\n",
       "      <td>New Delhi</td>\n",
       "      <td>Delhi / Ncr</td>\n",
       "      <td>Consultant Dermatologist And Cosmetologist</td>\n",
       "      <td>Mbbs</td>\n",
       "      <td>Pg Diploma</td>\n",
       "      <td>40.0</td>\n",
       "      <td>1aea93342d8c652a71</td>\n",
       "      <td>2018</td>\n",
       "    </tr>\n",
       "  </tbody>\n",
       "</table>\n",
       "</div>"
      ],
      "text/plain": [
       "   S.No                                       Resume Title  Work Exp  \\\n",
       "0     1  Experienced Dermatologist with 5 years plus ex...       5.8   \n",
       "1     2       M.B.B.S.,D.D.V.(Skin) with 5 yrs experience.       5.0   \n",
       "2     3  MBBS, D.V.D & DNB (Dermatology) with 7 yrs exp...       8.2   \n",
       "3     4              MBBS; DNB, FCPS,DDV with 6yrs of Exp.       7.0   \n",
       "4     5  Medical and cosmetic dermatology and dermatosu...      10.0   \n",
       "\n",
       "   Annual Salary Current Location Preferred Location  \\\n",
       "0           10.0          Kolkata            Kolkata   \n",
       "1           10.5            Dubai              Dubai   \n",
       "2           30.0            Dubai          All India   \n",
       "3            9.6           Mumbai             Mumbai   \n",
       "4           15.0        New Delhi        Delhi / Ncr   \n",
       "\n",
       "                                  Designation U.G. Course     P. G. Course  \\\n",
       "0                    Consultant Dermatologist        Mbbs   Md Dermatology   \n",
       "1  Consultant Dermatologist And Cosmetologist        Mbbs       Pg Diploma   \n",
       "2                               Dermatologist        Mbbs              Dnb   \n",
       "3                    Consultant Dermatologist        Mbbs  Dnb Dermatology   \n",
       "4  Consultant Dermatologist And Cosmetologist        Mbbs       Pg Diploma   \n",
       "\n",
       "   Age/Date of Birth           Resume ID  Last Active Date  \n",
       "0               40.0  0c264007658bd1c224              2016  \n",
       "1               40.0  3697d8852652123c53              2014  \n",
       "2               48.0  4b98d6db4fc0b5b012              2009  \n",
       "3               41.0  59063066742215cd70              2013  \n",
       "4               40.0  1aea93342d8c652a71              2018  "
      ]
     },
     "execution_count": 358,
     "metadata": {},
     "output_type": "execute_result"
    }
   ],
   "source": [
    "df.head()"
   ]
  },
  {
   "cell_type": "code",
   "execution_count": null,
   "metadata": {},
   "outputs": [],
   "source": [
    "\n",
    "drop2 ='Resume ID' \n",
    "drop3 ='Last Active Date'\n",
    "drop4 = 'Resume Title'\n",
    "drop5= 'Preferred Location'\n",
    "drop6 = 'S.No'\n",
    "\n",
    "df = df.drop(drop2,axis=1)\n",
    "df = df.drop(drop3,axis=1)\n",
    "df = df.drop(drop4,axis=1)\n",
    "df = df.drop(drop5,axis=1)\n",
    "df = df.drop(drop6,axis=1)"
   ]
  },
  {
   "cell_type": "code",
   "execution_count": 21,
   "metadata": {},
   "outputs": [
    {
     "data": {
      "text/html": [
       "<div>\n",
       "<style scoped>\n",
       "    .dataframe tbody tr th:only-of-type {\n",
       "        vertical-align: middle;\n",
       "    }\n",
       "\n",
       "    .dataframe tbody tr th {\n",
       "        vertical-align: top;\n",
       "    }\n",
       "\n",
       "    .dataframe thead th {\n",
       "        text-align: right;\n",
       "    }\n",
       "</style>\n",
       "<table border=\"1\" class=\"dataframe\">\n",
       "  <thead>\n",
       "    <tr style=\"text-align: right;\">\n",
       "      <th></th>\n",
       "      <th>S.No</th>\n",
       "      <th>Resume Title</th>\n",
       "      <th>Work Exp</th>\n",
       "      <th>Annual Salary</th>\n",
       "      <th>Current Location</th>\n",
       "      <th>Preferred Location</th>\n",
       "      <th>Designation</th>\n",
       "      <th>U.G. Course</th>\n",
       "      <th>P. G. Course</th>\n",
       "      <th>Age/Date of Birth</th>\n",
       "      <th>Resume ID</th>\n",
       "      <th>Last Active Date</th>\n",
       "    </tr>\n",
       "  </thead>\n",
       "  <tbody>\n",
       "    <tr>\n",
       "      <th>0</th>\n",
       "      <td>1</td>\n",
       "      <td>Experienced Dermatologist with 5 years plus ex...</td>\n",
       "      <td>5.8</td>\n",
       "      <td>10.0</td>\n",
       "      <td>Kolkata</td>\n",
       "      <td>Kolkata</td>\n",
       "      <td>NaN</td>\n",
       "      <td>Mbbs</td>\n",
       "      <td>Md Dermatology</td>\n",
       "      <td>40.0</td>\n",
       "      <td>0c264007658bd1c224</td>\n",
       "      <td>2016</td>\n",
       "    </tr>\n",
       "    <tr>\n",
       "      <th>1</th>\n",
       "      <td>2</td>\n",
       "      <td>M.B.B.S.,D.D.V.(Skin) with 5 yrs experience.</td>\n",
       "      <td>5.0</td>\n",
       "      <td>10.5</td>\n",
       "      <td>Dubai</td>\n",
       "      <td>Dubai</td>\n",
       "      <td>Consultant Dermatologist And Cosmetologist</td>\n",
       "      <td>Mbbs</td>\n",
       "      <td>Pg Diploma</td>\n",
       "      <td>40.0</td>\n",
       "      <td>3697d8852652123c53</td>\n",
       "      <td>2014</td>\n",
       "    </tr>\n",
       "    <tr>\n",
       "      <th>2</th>\n",
       "      <td>3</td>\n",
       "      <td>MBBS, D.V.D &amp; DNB (Dermatology) with 7 yrs exp...</td>\n",
       "      <td>8.2</td>\n",
       "      <td>30.0</td>\n",
       "      <td>Dubai</td>\n",
       "      <td>All India</td>\n",
       "      <td>Dermatologist</td>\n",
       "      <td>Mbbs</td>\n",
       "      <td>Dnb</td>\n",
       "      <td>48.0</td>\n",
       "      <td>4b98d6db4fc0b5b012</td>\n",
       "      <td>2009</td>\n",
       "    </tr>\n",
       "    <tr>\n",
       "      <th>3</th>\n",
       "      <td>4</td>\n",
       "      <td>MBBS; DNB, FCPS,DDV with 6yrs of Exp.</td>\n",
       "      <td>7.0</td>\n",
       "      <td>9.6</td>\n",
       "      <td>Mumbai</td>\n",
       "      <td>Mumbai</td>\n",
       "      <td>NaN</td>\n",
       "      <td>Mbbs</td>\n",
       "      <td>Dnb Dermatology</td>\n",
       "      <td>41.0</td>\n",
       "      <td>59063066742215cd70</td>\n",
       "      <td>2013</td>\n",
       "    </tr>\n",
       "    <tr>\n",
       "      <th>4</th>\n",
       "      <td>5</td>\n",
       "      <td>Medical and cosmetic dermatology and dermatosu...</td>\n",
       "      <td>10.0</td>\n",
       "      <td>15.0</td>\n",
       "      <td>New Delhi</td>\n",
       "      <td>Delhi / Ncr</td>\n",
       "      <td>Consultant Dermatologist And Cosmetologist</td>\n",
       "      <td>Mbbs</td>\n",
       "      <td>Pg Diploma</td>\n",
       "      <td>40.0</td>\n",
       "      <td>1aea93342d8c652a71</td>\n",
       "      <td>2018</td>\n",
       "    </tr>\n",
       "  </tbody>\n",
       "</table>\n",
       "</div>"
      ],
      "text/plain": [
       "   S.No                                       Resume Title  Work Exp  \\\n",
       "0     1  Experienced Dermatologist with 5 years plus ex...       5.8   \n",
       "1     2       M.B.B.S.,D.D.V.(Skin) with 5 yrs experience.       5.0   \n",
       "2     3  MBBS, D.V.D & DNB (Dermatology) with 7 yrs exp...       8.2   \n",
       "3     4              MBBS; DNB, FCPS,DDV with 6yrs of Exp.       7.0   \n",
       "4     5  Medical and cosmetic dermatology and dermatosu...      10.0   \n",
       "\n",
       "   Annual Salary Current Location Preferred Location  \\\n",
       "0           10.0          Kolkata            Kolkata   \n",
       "1           10.5            Dubai              Dubai   \n",
       "2           30.0            Dubai          All India   \n",
       "3            9.6           Mumbai             Mumbai   \n",
       "4           15.0        New Delhi        Delhi / Ncr   \n",
       "\n",
       "                                  Designation U.G. Course     P. G. Course  \\\n",
       "0                                         NaN        Mbbs   Md Dermatology   \n",
       "1  Consultant Dermatologist And Cosmetologist        Mbbs       Pg Diploma   \n",
       "2                               Dermatologist        Mbbs              Dnb   \n",
       "3                                         NaN        Mbbs  Dnb Dermatology   \n",
       "4  Consultant Dermatologist And Cosmetologist        Mbbs       Pg Diploma   \n",
       "\n",
       "   Age/Date of Birth           Resume ID  Last Active Date  \n",
       "0               40.0  0c264007658bd1c224              2016  \n",
       "1               40.0  3697d8852652123c53              2014  \n",
       "2               48.0  4b98d6db4fc0b5b012              2009  \n",
       "3               41.0  59063066742215cd70              2013  \n",
       "4               40.0  1aea93342d8c652a71              2018  "
      ]
     },
     "execution_count": 21,
     "metadata": {},
     "output_type": "execute_result"
    }
   ],
   "source": [
    "df.head()"
   ]
  },
  {
   "cell_type": "code",
   "execution_count": null,
   "metadata": {},
   "outputs": [
    {
     "data": {
      "text/plain": [
       "Work Exp             0\n",
       "Annual Salary        0\n",
       "Current Location     0\n",
       "Designation          0\n",
       "U.G. Course          0\n",
       "P. G. Course         0\n",
       "Age/Date of Birth    0\n",
       "dtype: int64"
      ]
     },
     "execution_count": 361,
     "metadata": {},
     "output_type": "execute_result"
    }
   ],
   "source": [
    "df.isnull().sum()"
   ]
  },
  {
   "cell_type": "markdown",
   "metadata": {},
   "source": [
    "ENCODING"
   ]
  },
  {
   "cell_type": "code",
   "execution_count": null,
   "metadata": {},
   "outputs": [
    {
     "data": {
      "text/html": [
       "<div>\n",
       "<style scoped>\n",
       "    .dataframe tbody tr th:only-of-type {\n",
       "        vertical-align: middle;\n",
       "    }\n",
       "\n",
       "    .dataframe tbody tr th {\n",
       "        vertical-align: top;\n",
       "    }\n",
       "\n",
       "    .dataframe thead th {\n",
       "        text-align: right;\n",
       "    }\n",
       "</style>\n",
       "<table border=\"1\" class=\"dataframe\">\n",
       "  <thead>\n",
       "    <tr style=\"text-align: right;\">\n",
       "      <th></th>\n",
       "      <th>Work Exp</th>\n",
       "      <th>Annual Salary</th>\n",
       "      <th>Current Location</th>\n",
       "      <th>Designation</th>\n",
       "      <th>U.G. Course</th>\n",
       "      <th>P. G. Course</th>\n",
       "      <th>Age/Date of Birth</th>\n",
       "    </tr>\n",
       "  </thead>\n",
       "  <tbody>\n",
       "    <tr>\n",
       "      <th>394</th>\n",
       "      <td>10.0</td>\n",
       "      <td>27.0</td>\n",
       "      <td>48</td>\n",
       "      <td>42</td>\n",
       "      <td>0</td>\n",
       "      <td>14</td>\n",
       "      <td>37.0</td>\n",
       "    </tr>\n",
       "    <tr>\n",
       "      <th>395</th>\n",
       "      <td>6.0</td>\n",
       "      <td>18.0</td>\n",
       "      <td>47</td>\n",
       "      <td>184</td>\n",
       "      <td>0</td>\n",
       "      <td>60</td>\n",
       "      <td>37.0</td>\n",
       "    </tr>\n",
       "    <tr>\n",
       "      <th>396</th>\n",
       "      <td>12.0</td>\n",
       "      <td>6.0</td>\n",
       "      <td>26</td>\n",
       "      <td>159</td>\n",
       "      <td>0</td>\n",
       "      <td>60</td>\n",
       "      <td>44.0</td>\n",
       "    </tr>\n",
       "    <tr>\n",
       "      <th>397</th>\n",
       "      <td>6.7</td>\n",
       "      <td>30.0</td>\n",
       "      <td>48</td>\n",
       "      <td>42</td>\n",
       "      <td>0</td>\n",
       "      <td>48</td>\n",
       "      <td>31.0</td>\n",
       "    </tr>\n",
       "    <tr>\n",
       "      <th>398</th>\n",
       "      <td>7.0</td>\n",
       "      <td>18.5</td>\n",
       "      <td>34</td>\n",
       "      <td>44</td>\n",
       "      <td>0</td>\n",
       "      <td>60</td>\n",
       "      <td>37.0</td>\n",
       "    </tr>\n",
       "  </tbody>\n",
       "</table>\n",
       "</div>"
      ],
      "text/plain": [
       "     Work Exp  Annual Salary  Current Location  Designation  U.G. Course  \\\n",
       "394      10.0           27.0                48           42            0   \n",
       "395       6.0           18.0                47          184            0   \n",
       "396      12.0            6.0                26          159            0   \n",
       "397       6.7           30.0                48           42            0   \n",
       "398       7.0           18.5                34           44            0   \n",
       "\n",
       "     P. G. Course  Age/Date of Birth  \n",
       "394            14               37.0  \n",
       "395            60               37.0  \n",
       "396            60               44.0  \n",
       "397            48               31.0  \n",
       "398            60               37.0  "
      ]
     },
     "execution_count": 362,
     "metadata": {},
     "output_type": "execute_result"
    }
   ],
   "source": [
    "df['Current Location'] = le.fit_transform(df['Current Location'])\n",
    "df['Designation'] = le.fit_transform(df['Designation'])\n",
    "df['U.G. Course'] = le.fit_transform(df['U.G. Course'])\n",
    "df['P. G. Course'] = le.fit_transform(df['P. G. Course'])\n",
    "df.tail()"
   ]
  },
  {
   "cell_type": "markdown",
   "metadata": {},
   "source": [
    "SPLITTING INTO X AND Y"
   ]
  },
  {
   "cell_type": "code",
   "execution_count": null,
   "metadata": {},
   "outputs": [],
   "source": [
    "X = df.drop('Annual Salary', axis =1)\n",
    "y = df['Annual Salary']"
   ]
  },
  {
   "cell_type": "code",
   "execution_count": null,
   "metadata": {},
   "outputs": [
    {
     "data": {
      "text/html": [
       "<div>\n",
       "<style scoped>\n",
       "    .dataframe tbody tr th:only-of-type {\n",
       "        vertical-align: middle;\n",
       "    }\n",
       "\n",
       "    .dataframe tbody tr th {\n",
       "        vertical-align: top;\n",
       "    }\n",
       "\n",
       "    .dataframe thead th {\n",
       "        text-align: right;\n",
       "    }\n",
       "</style>\n",
       "<table border=\"1\" class=\"dataframe\">\n",
       "  <thead>\n",
       "    <tr style=\"text-align: right;\">\n",
       "      <th></th>\n",
       "      <th>Work Exp</th>\n",
       "      <th>Current Location</th>\n",
       "      <th>Designation</th>\n",
       "      <th>U.G. Course</th>\n",
       "      <th>P. G. Course</th>\n",
       "      <th>Age/Date of Birth</th>\n",
       "    </tr>\n",
       "  </thead>\n",
       "  <tbody>\n",
       "    <tr>\n",
       "      <th>0</th>\n",
       "      <td>5.8</td>\n",
       "      <td>34</td>\n",
       "      <td>42</td>\n",
       "      <td>0</td>\n",
       "      <td>48</td>\n",
       "      <td>40.0</td>\n",
       "    </tr>\n",
       "    <tr>\n",
       "      <th>1</th>\n",
       "      <td>5.0</td>\n",
       "      <td>17</td>\n",
       "      <td>44</td>\n",
       "      <td>0</td>\n",
       "      <td>67</td>\n",
       "      <td>40.0</td>\n",
       "    </tr>\n",
       "    <tr>\n",
       "      <th>2</th>\n",
       "      <td>8.2</td>\n",
       "      <td>17</td>\n",
       "      <td>79</td>\n",
       "      <td>0</td>\n",
       "      <td>12</td>\n",
       "      <td>48.0</td>\n",
       "    </tr>\n",
       "    <tr>\n",
       "      <th>3</th>\n",
       "      <td>7.0</td>\n",
       "      <td>42</td>\n",
       "      <td>42</td>\n",
       "      <td>0</td>\n",
       "      <td>14</td>\n",
       "      <td>41.0</td>\n",
       "    </tr>\n",
       "    <tr>\n",
       "      <th>4</th>\n",
       "      <td>10.0</td>\n",
       "      <td>48</td>\n",
       "      <td>44</td>\n",
       "      <td>0</td>\n",
       "      <td>67</td>\n",
       "      <td>40.0</td>\n",
       "    </tr>\n",
       "    <tr>\n",
       "      <th>...</th>\n",
       "      <td>...</td>\n",
       "      <td>...</td>\n",
       "      <td>...</td>\n",
       "      <td>...</td>\n",
       "      <td>...</td>\n",
       "      <td>...</td>\n",
       "    </tr>\n",
       "    <tr>\n",
       "      <th>394</th>\n",
       "      <td>10.0</td>\n",
       "      <td>48</td>\n",
       "      <td>42</td>\n",
       "      <td>0</td>\n",
       "      <td>14</td>\n",
       "      <td>37.0</td>\n",
       "    </tr>\n",
       "    <tr>\n",
       "      <th>395</th>\n",
       "      <td>6.0</td>\n",
       "      <td>47</td>\n",
       "      <td>184</td>\n",
       "      <td>0</td>\n",
       "      <td>60</td>\n",
       "      <td>37.0</td>\n",
       "    </tr>\n",
       "    <tr>\n",
       "      <th>396</th>\n",
       "      <td>12.0</td>\n",
       "      <td>26</td>\n",
       "      <td>159</td>\n",
       "      <td>0</td>\n",
       "      <td>60</td>\n",
       "      <td>44.0</td>\n",
       "    </tr>\n",
       "    <tr>\n",
       "      <th>397</th>\n",
       "      <td>6.7</td>\n",
       "      <td>48</td>\n",
       "      <td>42</td>\n",
       "      <td>0</td>\n",
       "      <td>48</td>\n",
       "      <td>31.0</td>\n",
       "    </tr>\n",
       "    <tr>\n",
       "      <th>398</th>\n",
       "      <td>7.0</td>\n",
       "      <td>34</td>\n",
       "      <td>44</td>\n",
       "      <td>0</td>\n",
       "      <td>60</td>\n",
       "      <td>37.0</td>\n",
       "    </tr>\n",
       "  </tbody>\n",
       "</table>\n",
       "<p>399 rows × 6 columns</p>\n",
       "</div>"
      ],
      "text/plain": [
       "     Work Exp  Current Location  Designation  U.G. Course  P. G. Course  \\\n",
       "0         5.8                34           42            0            48   \n",
       "1         5.0                17           44            0            67   \n",
       "2         8.2                17           79            0            12   \n",
       "3         7.0                42           42            0            14   \n",
       "4        10.0                48           44            0            67   \n",
       "..        ...               ...          ...          ...           ...   \n",
       "394      10.0                48           42            0            14   \n",
       "395       6.0                47          184            0            60   \n",
       "396      12.0                26          159            0            60   \n",
       "397       6.7                48           42            0            48   \n",
       "398       7.0                34           44            0            60   \n",
       "\n",
       "     Age/Date of Birth  \n",
       "0                 40.0  \n",
       "1                 40.0  \n",
       "2                 48.0  \n",
       "3                 41.0  \n",
       "4                 40.0  \n",
       "..                 ...  \n",
       "394               37.0  \n",
       "395               37.0  \n",
       "396               44.0  \n",
       "397               31.0  \n",
       "398               37.0  \n",
       "\n",
       "[399 rows x 6 columns]"
      ]
     },
     "execution_count": 364,
     "metadata": {},
     "output_type": "execute_result"
    }
   ],
   "source": [
    "X"
   ]
  },
  {
   "cell_type": "code",
   "execution_count": null,
   "metadata": {},
   "outputs": [
    {
     "data": {
      "text/plain": [
       "0      10.0\n",
       "1      10.5\n",
       "2      30.0\n",
       "3       9.6\n",
       "4      15.0\n",
       "       ... \n",
       "394    27.0\n",
       "395    18.0\n",
       "396     6.0\n",
       "397    30.0\n",
       "398    18.5\n",
       "Name: Annual Salary, Length: 399, dtype: float64"
      ]
     },
     "execution_count": 365,
     "metadata": {},
     "output_type": "execute_result"
    }
   ],
   "source": [
    "y"
   ]
  },
  {
   "cell_type": "markdown",
   "metadata": {},
   "source": [
    "TRAIN TEST SPLIT"
   ]
  },
  {
   "cell_type": "code",
   "execution_count": null,
   "metadata": {},
   "outputs": [],
   "source": [
    "\n",
    "X_train,X_test,y_train,y_test = train_test_split(X,y,test_size = 0.2,random_state = 42)"
   ]
  },
  {
   "cell_type": "code",
   "execution_count": null,
   "metadata": {},
   "outputs": [
    {
     "data": {
      "text/plain": [
       "((319, 6), (80, 6), (80,), (319,))"
      ]
     },
     "execution_count": 367,
     "metadata": {},
     "output_type": "execute_result"
    }
   ],
   "source": [
    "X_train.shape,X_test.shape, y_test.shape,y_train.shape"
   ]
  },
  {
   "cell_type": "code",
   "execution_count": null,
   "metadata": {},
   "outputs": [
    {
     "data": {
      "text/html": [
       "<div>\n",
       "<style scoped>\n",
       "    .dataframe tbody tr th:only-of-type {\n",
       "        vertical-align: middle;\n",
       "    }\n",
       "\n",
       "    .dataframe tbody tr th {\n",
       "        vertical-align: top;\n",
       "    }\n",
       "\n",
       "    .dataframe thead th {\n",
       "        text-align: right;\n",
       "    }\n",
       "</style>\n",
       "<table border=\"1\" class=\"dataframe\">\n",
       "  <thead>\n",
       "    <tr style=\"text-align: right;\">\n",
       "      <th></th>\n",
       "      <th>Work Exp</th>\n",
       "      <th>Current Location</th>\n",
       "      <th>Designation</th>\n",
       "      <th>U.G. Course</th>\n",
       "      <th>P. G. Course</th>\n",
       "      <th>Age/Date of Birth</th>\n",
       "    </tr>\n",
       "  </thead>\n",
       "  <tbody>\n",
       "    <tr>\n",
       "      <th>3</th>\n",
       "      <td>7.0</td>\n",
       "      <td>42</td>\n",
       "      <td>42</td>\n",
       "      <td>0</td>\n",
       "      <td>14</td>\n",
       "      <td>41.0</td>\n",
       "    </tr>\n",
       "    <tr>\n",
       "      <th>18</th>\n",
       "      <td>27.0</td>\n",
       "      <td>49</td>\n",
       "      <td>152</td>\n",
       "      <td>0</td>\n",
       "      <td>51</td>\n",
       "      <td>37.0</td>\n",
       "    </tr>\n",
       "    <tr>\n",
       "      <th>377</th>\n",
       "      <td>5.0</td>\n",
       "      <td>5</td>\n",
       "      <td>42</td>\n",
       "      <td>0</td>\n",
       "      <td>60</td>\n",
       "      <td>37.0</td>\n",
       "    </tr>\n",
       "    <tr>\n",
       "      <th>248</th>\n",
       "      <td>8.0</td>\n",
       "      <td>34</td>\n",
       "      <td>151</td>\n",
       "      <td>0</td>\n",
       "      <td>60</td>\n",
       "      <td>40.0</td>\n",
       "    </tr>\n",
       "    <tr>\n",
       "      <th>177</th>\n",
       "      <td>19.0</td>\n",
       "      <td>42</td>\n",
       "      <td>42</td>\n",
       "      <td>0</td>\n",
       "      <td>26</td>\n",
       "      <td>37.0</td>\n",
       "    </tr>\n",
       "    <tr>\n",
       "      <th>...</th>\n",
       "      <td>...</td>\n",
       "      <td>...</td>\n",
       "      <td>...</td>\n",
       "      <td>...</td>\n",
       "      <td>...</td>\n",
       "      <td>...</td>\n",
       "    </tr>\n",
       "    <tr>\n",
       "      <th>71</th>\n",
       "      <td>18.0</td>\n",
       "      <td>42</td>\n",
       "      <td>19</td>\n",
       "      <td>0</td>\n",
       "      <td>33</td>\n",
       "      <td>44.0</td>\n",
       "    </tr>\n",
       "    <tr>\n",
       "      <th>106</th>\n",
       "      <td>11.0</td>\n",
       "      <td>22</td>\n",
       "      <td>42</td>\n",
       "      <td>0</td>\n",
       "      <td>46</td>\n",
       "      <td>39.0</td>\n",
       "    </tr>\n",
       "    <tr>\n",
       "      <th>270</th>\n",
       "      <td>21.0</td>\n",
       "      <td>42</td>\n",
       "      <td>42</td>\n",
       "      <td>0</td>\n",
       "      <td>60</td>\n",
       "      <td>41.0</td>\n",
       "    </tr>\n",
       "    <tr>\n",
       "      <th>348</th>\n",
       "      <td>6.0</td>\n",
       "      <td>19</td>\n",
       "      <td>42</td>\n",
       "      <td>0</td>\n",
       "      <td>29</td>\n",
       "      <td>35.0</td>\n",
       "    </tr>\n",
       "    <tr>\n",
       "      <th>102</th>\n",
       "      <td>11.0</td>\n",
       "      <td>48</td>\n",
       "      <td>113</td>\n",
       "      <td>0</td>\n",
       "      <td>41</td>\n",
       "      <td>37.0</td>\n",
       "    </tr>\n",
       "  </tbody>\n",
       "</table>\n",
       "<p>319 rows × 6 columns</p>\n",
       "</div>"
      ],
      "text/plain": [
       "     Work Exp  Current Location  Designation  U.G. Course  P. G. Course  \\\n",
       "3         7.0                42           42            0            14   \n",
       "18       27.0                49          152            0            51   \n",
       "377       5.0                 5           42            0            60   \n",
       "248       8.0                34          151            0            60   \n",
       "177      19.0                42           42            0            26   \n",
       "..        ...               ...          ...          ...           ...   \n",
       "71       18.0                42           19            0            33   \n",
       "106      11.0                22           42            0            46   \n",
       "270      21.0                42           42            0            60   \n",
       "348       6.0                19           42            0            29   \n",
       "102      11.0                48          113            0            41   \n",
       "\n",
       "     Age/Date of Birth  \n",
       "3                 41.0  \n",
       "18                37.0  \n",
       "377               37.0  \n",
       "248               40.0  \n",
       "177               37.0  \n",
       "..                 ...  \n",
       "71                44.0  \n",
       "106               39.0  \n",
       "270               41.0  \n",
       "348               35.0  \n",
       "102               37.0  \n",
       "\n",
       "[319 rows x 6 columns]"
      ]
     },
     "execution_count": 368,
     "metadata": {},
     "output_type": "execute_result"
    }
   ],
   "source": [
    "X_train"
   ]
  },
  {
   "cell_type": "markdown",
   "metadata": {},
   "source": [
    "## Model Building "
   ]
  },
  {
   "cell_type": "markdown",
   "metadata": {},
   "source": [
    "## DECISION TREE REGRESSOR"
   ]
  },
  {
   "cell_type": "code",
   "execution_count": null,
   "metadata": {},
   "outputs": [],
   "source": [
    "from sklearn.tree import DecisionTreeRegressor\n",
    "dtr = DecisionTreeRegressor(random_state =42)"
   ]
  },
  {
   "cell_type": "code",
   "execution_count": null,
   "metadata": {},
   "outputs": [
    {
     "name": "stderr",
     "output_type": "stream",
     "text": [
      "c:\\Users\\AMIT KUMAR BHADRA\\AppData\\Local\\Programs\\Python\\Python39\\lib\\site-packages\\sklearn\\utils\\validation.py:767: FutureWarning: is_sparse is deprecated and will be removed in a future version. Check `isinstance(dtype, pd.SparseDtype)` instead.\n",
      "  if not hasattr(array, \"sparse\") and array.dtypes.apply(is_sparse).any():\n",
      "c:\\Users\\AMIT KUMAR BHADRA\\AppData\\Local\\Programs\\Python\\Python39\\lib\\site-packages\\sklearn\\utils\\validation.py:605: FutureWarning: is_sparse is deprecated and will be removed in a future version. Check `isinstance(dtype, pd.SparseDtype)` instead.\n",
      "  if is_sparse(pd_dtype):\n",
      "c:\\Users\\AMIT KUMAR BHADRA\\AppData\\Local\\Programs\\Python\\Python39\\lib\\site-packages\\sklearn\\utils\\validation.py:614: FutureWarning: is_sparse is deprecated and will be removed in a future version. Check `isinstance(dtype, pd.SparseDtype)` instead.\n",
      "  if is_sparse(pd_dtype) or not is_extension_array_dtype(pd_dtype):\n",
      "c:\\Users\\AMIT KUMAR BHADRA\\AppData\\Local\\Programs\\Python\\Python39\\lib\\site-packages\\sklearn\\utils\\validation.py:605: FutureWarning: is_sparse is deprecated and will be removed in a future version. Check `isinstance(dtype, pd.SparseDtype)` instead.\n",
      "  if is_sparse(pd_dtype):\n",
      "c:\\Users\\AMIT KUMAR BHADRA\\AppData\\Local\\Programs\\Python\\Python39\\lib\\site-packages\\sklearn\\utils\\validation.py:614: FutureWarning: is_sparse is deprecated and will be removed in a future version. Check `isinstance(dtype, pd.SparseDtype)` instead.\n",
      "  if is_sparse(pd_dtype) or not is_extension_array_dtype(pd_dtype):\n"
     ]
    },
    {
     "data": {
      "text/html": [
       "<style>#sk-container-id-20 {color: black;background-color: white;}#sk-container-id-20 pre{padding: 0;}#sk-container-id-20 div.sk-toggleable {background-color: white;}#sk-container-id-20 label.sk-toggleable__label {cursor: pointer;display: block;width: 100%;margin-bottom: 0;padding: 0.3em;box-sizing: border-box;text-align: center;}#sk-container-id-20 label.sk-toggleable__label-arrow:before {content: \"▸\";float: left;margin-right: 0.25em;color: #696969;}#sk-container-id-20 label.sk-toggleable__label-arrow:hover:before {color: black;}#sk-container-id-20 div.sk-estimator:hover label.sk-toggleable__label-arrow:before {color: black;}#sk-container-id-20 div.sk-toggleable__content {max-height: 0;max-width: 0;overflow: hidden;text-align: left;background-color: #f0f8ff;}#sk-container-id-20 div.sk-toggleable__content pre {margin: 0.2em;color: black;border-radius: 0.25em;background-color: #f0f8ff;}#sk-container-id-20 input.sk-toggleable__control:checked~div.sk-toggleable__content {max-height: 200px;max-width: 100%;overflow: auto;}#sk-container-id-20 input.sk-toggleable__control:checked~label.sk-toggleable__label-arrow:before {content: \"▾\";}#sk-container-id-20 div.sk-estimator input.sk-toggleable__control:checked~label.sk-toggleable__label {background-color: #d4ebff;}#sk-container-id-20 div.sk-label input.sk-toggleable__control:checked~label.sk-toggleable__label {background-color: #d4ebff;}#sk-container-id-20 input.sk-hidden--visually {border: 0;clip: rect(1px 1px 1px 1px);clip: rect(1px, 1px, 1px, 1px);height: 1px;margin: -1px;overflow: hidden;padding: 0;position: absolute;width: 1px;}#sk-container-id-20 div.sk-estimator {font-family: monospace;background-color: #f0f8ff;border: 1px dotted black;border-radius: 0.25em;box-sizing: border-box;margin-bottom: 0.5em;}#sk-container-id-20 div.sk-estimator:hover {background-color: #d4ebff;}#sk-container-id-20 div.sk-parallel-item::after {content: \"\";width: 100%;border-bottom: 1px solid gray;flex-grow: 1;}#sk-container-id-20 div.sk-label:hover label.sk-toggleable__label {background-color: #d4ebff;}#sk-container-id-20 div.sk-serial::before {content: \"\";position: absolute;border-left: 1px solid gray;box-sizing: border-box;top: 0;bottom: 0;left: 50%;z-index: 0;}#sk-container-id-20 div.sk-serial {display: flex;flex-direction: column;align-items: center;background-color: white;padding-right: 0.2em;padding-left: 0.2em;position: relative;}#sk-container-id-20 div.sk-item {position: relative;z-index: 1;}#sk-container-id-20 div.sk-parallel {display: flex;align-items: stretch;justify-content: center;background-color: white;position: relative;}#sk-container-id-20 div.sk-item::before, #sk-container-id-20 div.sk-parallel-item::before {content: \"\";position: absolute;border-left: 1px solid gray;box-sizing: border-box;top: 0;bottom: 0;left: 50%;z-index: -1;}#sk-container-id-20 div.sk-parallel-item {display: flex;flex-direction: column;z-index: 1;position: relative;background-color: white;}#sk-container-id-20 div.sk-parallel-item:first-child::after {align-self: flex-end;width: 50%;}#sk-container-id-20 div.sk-parallel-item:last-child::after {align-self: flex-start;width: 50%;}#sk-container-id-20 div.sk-parallel-item:only-child::after {width: 0;}#sk-container-id-20 div.sk-dashed-wrapped {border: 1px dashed gray;margin: 0 0.4em 0.5em 0.4em;box-sizing: border-box;padding-bottom: 0.4em;background-color: white;}#sk-container-id-20 div.sk-label label {font-family: monospace;font-weight: bold;display: inline-block;line-height: 1.2em;}#sk-container-id-20 div.sk-label-container {text-align: center;}#sk-container-id-20 div.sk-container {/* jupyter's `normalize.less` sets `[hidden] { display: none; }` but bootstrap.min.css set `[hidden] { display: none !important; }` so we also need the `!important` here to be able to override the default hidden behavior on the sphinx rendered scikit-learn.org. See: https://github.com/scikit-learn/scikit-learn/issues/21755 */display: inline-block !important;position: relative;}#sk-container-id-20 div.sk-text-repr-fallback {display: none;}</style><div id=\"sk-container-id-20\" class=\"sk-top-container\"><div class=\"sk-text-repr-fallback\"><pre>DecisionTreeRegressor(random_state=42)</pre><b>In a Jupyter environment, please rerun this cell to show the HTML representation or trust the notebook. <br />On GitHub, the HTML representation is unable to render, please try loading this page with nbviewer.org.</b></div><div class=\"sk-container\" hidden><div class=\"sk-item\"><div class=\"sk-estimator sk-toggleable\"><input class=\"sk-toggleable__control sk-hidden--visually\" id=\"sk-estimator-id-20\" type=\"checkbox\" checked><label for=\"sk-estimator-id-20\" class=\"sk-toggleable__label sk-toggleable__label-arrow\">DecisionTreeRegressor</label><div class=\"sk-toggleable__content\"><pre>DecisionTreeRegressor(random_state=42)</pre></div></div></div></div></div>"
      ],
      "text/plain": [
       "DecisionTreeRegressor(random_state=42)"
      ]
     },
     "execution_count": 370,
     "metadata": {},
     "output_type": "execute_result"
    }
   ],
   "source": [
    "dtr.fit(X_train, y_train)"
   ]
  },
  {
   "cell_type": "code",
   "execution_count": null,
   "metadata": {},
   "outputs": [
    {
     "name": "stderr",
     "output_type": "stream",
     "text": [
      "c:\\Users\\AMIT KUMAR BHADRA\\AppData\\Local\\Programs\\Python\\Python39\\lib\\site-packages\\sklearn\\utils\\validation.py:767: FutureWarning: is_sparse is deprecated and will be removed in a future version. Check `isinstance(dtype, pd.SparseDtype)` instead.\n",
      "  if not hasattr(array, \"sparse\") and array.dtypes.apply(is_sparse).any():\n",
      "c:\\Users\\AMIT KUMAR BHADRA\\AppData\\Local\\Programs\\Python\\Python39\\lib\\site-packages\\sklearn\\utils\\validation.py:605: FutureWarning: is_sparse is deprecated and will be removed in a future version. Check `isinstance(dtype, pd.SparseDtype)` instead.\n",
      "  if is_sparse(pd_dtype):\n",
      "c:\\Users\\AMIT KUMAR BHADRA\\AppData\\Local\\Programs\\Python\\Python39\\lib\\site-packages\\sklearn\\utils\\validation.py:614: FutureWarning: is_sparse is deprecated and will be removed in a future version. Check `isinstance(dtype, pd.SparseDtype)` instead.\n",
      "  if is_sparse(pd_dtype) or not is_extension_array_dtype(pd_dtype):\n",
      "c:\\Users\\AMIT KUMAR BHADRA\\AppData\\Local\\Programs\\Python\\Python39\\lib\\site-packages\\sklearn\\utils\\validation.py:767: FutureWarning: is_sparse is deprecated and will be removed in a future version. Check `isinstance(dtype, pd.SparseDtype)` instead.\n",
      "  if not hasattr(array, \"sparse\") and array.dtypes.apply(is_sparse).any():\n",
      "c:\\Users\\AMIT KUMAR BHADRA\\AppData\\Local\\Programs\\Python\\Python39\\lib\\site-packages\\sklearn\\utils\\validation.py:605: FutureWarning: is_sparse is deprecated and will be removed in a future version. Check `isinstance(dtype, pd.SparseDtype)` instead.\n",
      "  if is_sparse(pd_dtype):\n",
      "c:\\Users\\AMIT KUMAR BHADRA\\AppData\\Local\\Programs\\Python\\Python39\\lib\\site-packages\\sklearn\\utils\\validation.py:614: FutureWarning: is_sparse is deprecated and will be removed in a future version. Check `isinstance(dtype, pd.SparseDtype)` instead.\n",
      "  if is_sparse(pd_dtype) or not is_extension_array_dtype(pd_dtype):\n"
     ]
    },
    {
     "data": {
      "text/plain": [
       "(array([ 9.6, 80. ,  0. , 25. , 32. ]), array([30. , 17.4,  0. , 40. , 36.5]))"
      ]
     },
     "execution_count": 371,
     "metadata": {},
     "output_type": "execute_result"
    }
   ],
   "source": [
    "y_train_pred = dtr.predict(X_train)\n",
    "y_test_pred = dtr.predict(X_test)\n",
    "y_train_pred[:5], y_test_pred[:5]"
   ]
  },
  {
   "cell_type": "code",
   "execution_count": null,
   "metadata": {},
   "outputs": [
    {
     "name": "stderr",
     "output_type": "stream",
     "text": [
      "c:\\Users\\AMIT KUMAR BHADRA\\AppData\\Local\\Programs\\Python\\Python39\\lib\\site-packages\\sklearn\\utils\\validation.py:605: FutureWarning: is_sparse is deprecated and will be removed in a future version. Check `isinstance(dtype, pd.SparseDtype)` instead.\n",
      "  if is_sparse(pd_dtype):\n",
      "c:\\Users\\AMIT KUMAR BHADRA\\AppData\\Local\\Programs\\Python\\Python39\\lib\\site-packages\\sklearn\\utils\\validation.py:614: FutureWarning: is_sparse is deprecated and will be removed in a future version. Check `isinstance(dtype, pd.SparseDtype)` instead.\n",
      "  if is_sparse(pd_dtype) or not is_extension_array_dtype(pd_dtype):\n",
      "c:\\Users\\AMIT KUMAR BHADRA\\AppData\\Local\\Programs\\Python\\Python39\\lib\\site-packages\\sklearn\\utils\\validation.py:605: FutureWarning: is_sparse is deprecated and will be removed in a future version. Check `isinstance(dtype, pd.SparseDtype)` instead.\n",
      "  if is_sparse(pd_dtype):\n",
      "c:\\Users\\AMIT KUMAR BHADRA\\AppData\\Local\\Programs\\Python\\Python39\\lib\\site-packages\\sklearn\\utils\\validation.py:614: FutureWarning: is_sparse is deprecated and will be removed in a future version. Check `isinstance(dtype, pd.SparseDtype)` instead.\n",
      "  if is_sparse(pd_dtype) or not is_extension_array_dtype(pd_dtype):\n"
     ]
    },
    {
     "data": {
      "text/plain": [
       "(99.89507989021106, -139.03487233400043)"
      ]
     },
     "execution_count": 372,
     "metadata": {},
     "output_type": "execute_result"
    }
   ],
   "source": [
    "r2_score(y_train, y_train_pred)*100, r2_score(y_test, y_test_pred)*100"
   ]
  },
  {
   "cell_type": "code",
   "execution_count": null,
   "metadata": {},
   "outputs": [
    {
     "name": "stderr",
     "output_type": "stream",
     "text": [
      "c:\\Users\\AMIT KUMAR BHADRA\\AppData\\Local\\Programs\\Python\\Python39\\lib\\site-packages\\sklearn\\utils\\validation.py:605: FutureWarning: is_sparse is deprecated and will be removed in a future version. Check `isinstance(dtype, pd.SparseDtype)` instead.\n",
      "  if is_sparse(pd_dtype):\n",
      "c:\\Users\\AMIT KUMAR BHADRA\\AppData\\Local\\Programs\\Python\\Python39\\lib\\site-packages\\sklearn\\utils\\validation.py:614: FutureWarning: is_sparse is deprecated and will be removed in a future version. Check `isinstance(dtype, pd.SparseDtype)` instead.\n",
      "  if is_sparse(pd_dtype) or not is_extension_array_dtype(pd_dtype):\n",
      "c:\\Users\\AMIT KUMAR BHADRA\\AppData\\Local\\Programs\\Python\\Python39\\lib\\site-packages\\sklearn\\utils\\validation.py:605: FutureWarning: is_sparse is deprecated and will be removed in a future version. Check `isinstance(dtype, pd.SparseDtype)` instead.\n",
      "  if is_sparse(pd_dtype):\n",
      "c:\\Users\\AMIT KUMAR BHADRA\\AppData\\Local\\Programs\\Python\\Python39\\lib\\site-packages\\sklearn\\utils\\validation.py:614: FutureWarning: is_sparse is deprecated and will be removed in a future version. Check `isinstance(dtype, pd.SparseDtype)` instead.\n",
      "  if is_sparse(pd_dtype) or not is_extension_array_dtype(pd_dtype):\n"
     ]
    },
    {
     "data": {
      "text/plain": [
       "(0.22570532915360503, 456.33275000000003)"
      ]
     },
     "execution_count": 373,
     "metadata": {},
     "output_type": "execute_result"
    }
   ],
   "source": [
    "mean_squared_error(y_train, y_train_pred), mean_squared_error(y_test, y_test_pred)"
   ]
  },
  {
   "cell_type": "code",
   "execution_count": null,
   "metadata": {},
   "outputs": [
    {
     "name": "stderr",
     "output_type": "stream",
     "text": [
      "c:\\Users\\AMIT KUMAR BHADRA\\AppData\\Local\\Programs\\Python\\Python39\\lib\\site-packages\\sklearn\\base.py:409: UserWarning: X does not have valid feature names, but DecisionTreeRegressor was fitted with feature names\n",
      "  warnings.warn(\n"
     ]
    },
    {
     "data": {
      "text/plain": [
       "array([18.5])"
      ]
     },
     "execution_count": 374,
     "metadata": {},
     "output_type": "execute_result"
    }
   ],
   "source": [
    "dtr.predict([[7.0,34,44,0,60,37.0]]) # decision tree"
   ]
  },
  {
   "cell_type": "markdown",
   "metadata": {},
   "source": [
    "#### Random Forest Regressor"
   ]
  },
  {
   "cell_type": "code",
   "execution_count": null,
   "metadata": {},
   "outputs": [
    {
     "data": {
      "text/html": [
       "<div>\n",
       "<style scoped>\n",
       "    .dataframe tbody tr th:only-of-type {\n",
       "        vertical-align: middle;\n",
       "    }\n",
       "\n",
       "    .dataframe tbody tr th {\n",
       "        vertical-align: top;\n",
       "    }\n",
       "\n",
       "    .dataframe thead th {\n",
       "        text-align: right;\n",
       "    }\n",
       "</style>\n",
       "<table border=\"1\" class=\"dataframe\">\n",
       "  <thead>\n",
       "    <tr style=\"text-align: right;\">\n",
       "      <th></th>\n",
       "      <th>Work Exp</th>\n",
       "      <th>Current Location</th>\n",
       "      <th>Designation</th>\n",
       "      <th>U.G. Course</th>\n",
       "      <th>P. G. Course</th>\n",
       "      <th>Age/Date of Birth</th>\n",
       "    </tr>\n",
       "  </thead>\n",
       "  <tbody>\n",
       "    <tr>\n",
       "      <th>3</th>\n",
       "      <td>7.0</td>\n",
       "      <td>42</td>\n",
       "      <td>42</td>\n",
       "      <td>0</td>\n",
       "      <td>14</td>\n",
       "      <td>41.0</td>\n",
       "    </tr>\n",
       "    <tr>\n",
       "      <th>18</th>\n",
       "      <td>27.0</td>\n",
       "      <td>49</td>\n",
       "      <td>152</td>\n",
       "      <td>0</td>\n",
       "      <td>51</td>\n",
       "      <td>37.0</td>\n",
       "    </tr>\n",
       "    <tr>\n",
       "      <th>377</th>\n",
       "      <td>5.0</td>\n",
       "      <td>5</td>\n",
       "      <td>42</td>\n",
       "      <td>0</td>\n",
       "      <td>60</td>\n",
       "      <td>37.0</td>\n",
       "    </tr>\n",
       "    <tr>\n",
       "      <th>248</th>\n",
       "      <td>8.0</td>\n",
       "      <td>34</td>\n",
       "      <td>151</td>\n",
       "      <td>0</td>\n",
       "      <td>60</td>\n",
       "      <td>40.0</td>\n",
       "    </tr>\n",
       "    <tr>\n",
       "      <th>177</th>\n",
       "      <td>19.0</td>\n",
       "      <td>42</td>\n",
       "      <td>42</td>\n",
       "      <td>0</td>\n",
       "      <td>26</td>\n",
       "      <td>37.0</td>\n",
       "    </tr>\n",
       "    <tr>\n",
       "      <th>...</th>\n",
       "      <td>...</td>\n",
       "      <td>...</td>\n",
       "      <td>...</td>\n",
       "      <td>...</td>\n",
       "      <td>...</td>\n",
       "      <td>...</td>\n",
       "    </tr>\n",
       "    <tr>\n",
       "      <th>71</th>\n",
       "      <td>18.0</td>\n",
       "      <td>42</td>\n",
       "      <td>19</td>\n",
       "      <td>0</td>\n",
       "      <td>33</td>\n",
       "      <td>44.0</td>\n",
       "    </tr>\n",
       "    <tr>\n",
       "      <th>106</th>\n",
       "      <td>11.0</td>\n",
       "      <td>22</td>\n",
       "      <td>42</td>\n",
       "      <td>0</td>\n",
       "      <td>46</td>\n",
       "      <td>39.0</td>\n",
       "    </tr>\n",
       "    <tr>\n",
       "      <th>270</th>\n",
       "      <td>21.0</td>\n",
       "      <td>42</td>\n",
       "      <td>42</td>\n",
       "      <td>0</td>\n",
       "      <td>60</td>\n",
       "      <td>41.0</td>\n",
       "    </tr>\n",
       "    <tr>\n",
       "      <th>348</th>\n",
       "      <td>6.0</td>\n",
       "      <td>19</td>\n",
       "      <td>42</td>\n",
       "      <td>0</td>\n",
       "      <td>29</td>\n",
       "      <td>35.0</td>\n",
       "    </tr>\n",
       "    <tr>\n",
       "      <th>102</th>\n",
       "      <td>11.0</td>\n",
       "      <td>48</td>\n",
       "      <td>113</td>\n",
       "      <td>0</td>\n",
       "      <td>41</td>\n",
       "      <td>37.0</td>\n",
       "    </tr>\n",
       "  </tbody>\n",
       "</table>\n",
       "<p>319 rows × 6 columns</p>\n",
       "</div>"
      ],
      "text/plain": [
       "     Work Exp  Current Location  Designation  U.G. Course  P. G. Course  \\\n",
       "3         7.0                42           42            0            14   \n",
       "18       27.0                49          152            0            51   \n",
       "377       5.0                 5           42            0            60   \n",
       "248       8.0                34          151            0            60   \n",
       "177      19.0                42           42            0            26   \n",
       "..        ...               ...          ...          ...           ...   \n",
       "71       18.0                42           19            0            33   \n",
       "106      11.0                22           42            0            46   \n",
       "270      21.0                42           42            0            60   \n",
       "348       6.0                19           42            0            29   \n",
       "102      11.0                48          113            0            41   \n",
       "\n",
       "     Age/Date of Birth  \n",
       "3                 41.0  \n",
       "18                37.0  \n",
       "377               37.0  \n",
       "248               40.0  \n",
       "177               37.0  \n",
       "..                 ...  \n",
       "71                44.0  \n",
       "106               39.0  \n",
       "270               41.0  \n",
       "348               35.0  \n",
       "102               37.0  \n",
       "\n",
       "[319 rows x 6 columns]"
      ]
     },
     "execution_count": 375,
     "metadata": {},
     "output_type": "execute_result"
    }
   ],
   "source": [
    "X_train"
   ]
  },
  {
   "cell_type": "code",
   "execution_count": null,
   "metadata": {},
   "outputs": [
    {
     "name": "stderr",
     "output_type": "stream",
     "text": [
      "c:\\Users\\AMIT KUMAR BHADRA\\AppData\\Local\\Programs\\Python\\Python39\\lib\\site-packages\\sklearn\\utils\\validation.py:767: FutureWarning: is_sparse is deprecated and will be removed in a future version. Check `isinstance(dtype, pd.SparseDtype)` instead.\n",
      "  if not hasattr(array, \"sparse\") and array.dtypes.apply(is_sparse).any():\n",
      "c:\\Users\\AMIT KUMAR BHADRA\\AppData\\Local\\Programs\\Python\\Python39\\lib\\site-packages\\sklearn\\utils\\validation.py:605: FutureWarning: is_sparse is deprecated and will be removed in a future version. Check `isinstance(dtype, pd.SparseDtype)` instead.\n",
      "  if is_sparse(pd_dtype):\n",
      "c:\\Users\\AMIT KUMAR BHADRA\\AppData\\Local\\Programs\\Python\\Python39\\lib\\site-packages\\sklearn\\utils\\validation.py:614: FutureWarning: is_sparse is deprecated and will be removed in a future version. Check `isinstance(dtype, pd.SparseDtype)` instead.\n",
      "  if is_sparse(pd_dtype) or not is_extension_array_dtype(pd_dtype):\n",
      "c:\\Users\\AMIT KUMAR BHADRA\\AppData\\Local\\Programs\\Python\\Python39\\lib\\site-packages\\sklearn\\utils\\validation.py:605: FutureWarning: is_sparse is deprecated and will be removed in a future version. Check `isinstance(dtype, pd.SparseDtype)` instead.\n",
      "  if is_sparse(pd_dtype):\n",
      "c:\\Users\\AMIT KUMAR BHADRA\\AppData\\Local\\Programs\\Python\\Python39\\lib\\site-packages\\sklearn\\utils\\validation.py:614: FutureWarning: is_sparse is deprecated and will be removed in a future version. Check `isinstance(dtype, pd.SparseDtype)` instead.\n",
      "  if is_sparse(pd_dtype) or not is_extension_array_dtype(pd_dtype):\n"
     ]
    },
    {
     "data": {
      "text/html": [
       "<style>#sk-container-id-21 {color: black;background-color: white;}#sk-container-id-21 pre{padding: 0;}#sk-container-id-21 div.sk-toggleable {background-color: white;}#sk-container-id-21 label.sk-toggleable__label {cursor: pointer;display: block;width: 100%;margin-bottom: 0;padding: 0.3em;box-sizing: border-box;text-align: center;}#sk-container-id-21 label.sk-toggleable__label-arrow:before {content: \"▸\";float: left;margin-right: 0.25em;color: #696969;}#sk-container-id-21 label.sk-toggleable__label-arrow:hover:before {color: black;}#sk-container-id-21 div.sk-estimator:hover label.sk-toggleable__label-arrow:before {color: black;}#sk-container-id-21 div.sk-toggleable__content {max-height: 0;max-width: 0;overflow: hidden;text-align: left;background-color: #f0f8ff;}#sk-container-id-21 div.sk-toggleable__content pre {margin: 0.2em;color: black;border-radius: 0.25em;background-color: #f0f8ff;}#sk-container-id-21 input.sk-toggleable__control:checked~div.sk-toggleable__content {max-height: 200px;max-width: 100%;overflow: auto;}#sk-container-id-21 input.sk-toggleable__control:checked~label.sk-toggleable__label-arrow:before {content: \"▾\";}#sk-container-id-21 div.sk-estimator input.sk-toggleable__control:checked~label.sk-toggleable__label {background-color: #d4ebff;}#sk-container-id-21 div.sk-label input.sk-toggleable__control:checked~label.sk-toggleable__label {background-color: #d4ebff;}#sk-container-id-21 input.sk-hidden--visually {border: 0;clip: rect(1px 1px 1px 1px);clip: rect(1px, 1px, 1px, 1px);height: 1px;margin: -1px;overflow: hidden;padding: 0;position: absolute;width: 1px;}#sk-container-id-21 div.sk-estimator {font-family: monospace;background-color: #f0f8ff;border: 1px dotted black;border-radius: 0.25em;box-sizing: border-box;margin-bottom: 0.5em;}#sk-container-id-21 div.sk-estimator:hover {background-color: #d4ebff;}#sk-container-id-21 div.sk-parallel-item::after {content: \"\";width: 100%;border-bottom: 1px solid gray;flex-grow: 1;}#sk-container-id-21 div.sk-label:hover label.sk-toggleable__label {background-color: #d4ebff;}#sk-container-id-21 div.sk-serial::before {content: \"\";position: absolute;border-left: 1px solid gray;box-sizing: border-box;top: 0;bottom: 0;left: 50%;z-index: 0;}#sk-container-id-21 div.sk-serial {display: flex;flex-direction: column;align-items: center;background-color: white;padding-right: 0.2em;padding-left: 0.2em;position: relative;}#sk-container-id-21 div.sk-item {position: relative;z-index: 1;}#sk-container-id-21 div.sk-parallel {display: flex;align-items: stretch;justify-content: center;background-color: white;position: relative;}#sk-container-id-21 div.sk-item::before, #sk-container-id-21 div.sk-parallel-item::before {content: \"\";position: absolute;border-left: 1px solid gray;box-sizing: border-box;top: 0;bottom: 0;left: 50%;z-index: -1;}#sk-container-id-21 div.sk-parallel-item {display: flex;flex-direction: column;z-index: 1;position: relative;background-color: white;}#sk-container-id-21 div.sk-parallel-item:first-child::after {align-self: flex-end;width: 50%;}#sk-container-id-21 div.sk-parallel-item:last-child::after {align-self: flex-start;width: 50%;}#sk-container-id-21 div.sk-parallel-item:only-child::after {width: 0;}#sk-container-id-21 div.sk-dashed-wrapped {border: 1px dashed gray;margin: 0 0.4em 0.5em 0.4em;box-sizing: border-box;padding-bottom: 0.4em;background-color: white;}#sk-container-id-21 div.sk-label label {font-family: monospace;font-weight: bold;display: inline-block;line-height: 1.2em;}#sk-container-id-21 div.sk-label-container {text-align: center;}#sk-container-id-21 div.sk-container {/* jupyter's `normalize.less` sets `[hidden] { display: none; }` but bootstrap.min.css set `[hidden] { display: none !important; }` so we also need the `!important` here to be able to override the default hidden behavior on the sphinx rendered scikit-learn.org. See: https://github.com/scikit-learn/scikit-learn/issues/21755 */display: inline-block !important;position: relative;}#sk-container-id-21 div.sk-text-repr-fallback {display: none;}</style><div id=\"sk-container-id-21\" class=\"sk-top-container\"><div class=\"sk-text-repr-fallback\"><pre>RandomForestRegressor(random_state=42)</pre><b>In a Jupyter environment, please rerun this cell to show the HTML representation or trust the notebook. <br />On GitHub, the HTML representation is unable to render, please try loading this page with nbviewer.org.</b></div><div class=\"sk-container\" hidden><div class=\"sk-item\"><div class=\"sk-estimator sk-toggleable\"><input class=\"sk-toggleable__control sk-hidden--visually\" id=\"sk-estimator-id-21\" type=\"checkbox\" checked><label for=\"sk-estimator-id-21\" class=\"sk-toggleable__label sk-toggleable__label-arrow\">RandomForestRegressor</label><div class=\"sk-toggleable__content\"><pre>RandomForestRegressor(random_state=42)</pre></div></div></div></div></div>"
      ],
      "text/plain": [
       "RandomForestRegressor(random_state=42)"
      ]
     },
     "execution_count": 376,
     "metadata": {},
     "output_type": "execute_result"
    }
   ],
   "source": [
    "rf.fit(X_train,y_train)"
   ]
  },
  {
   "cell_type": "code",
   "execution_count": null,
   "metadata": {},
   "outputs": [
    {
     "name": "stderr",
     "output_type": "stream",
     "text": [
      "c:\\Users\\AMIT KUMAR BHADRA\\AppData\\Local\\Programs\\Python\\Python39\\lib\\site-packages\\sklearn\\utils\\validation.py:767: FutureWarning: is_sparse is deprecated and will be removed in a future version. Check `isinstance(dtype, pd.SparseDtype)` instead.\n",
      "  if not hasattr(array, \"sparse\") and array.dtypes.apply(is_sparse).any():\n",
      "c:\\Users\\AMIT KUMAR BHADRA\\AppData\\Local\\Programs\\Python\\Python39\\lib\\site-packages\\sklearn\\utils\\validation.py:605: FutureWarning: is_sparse is deprecated and will be removed in a future version. Check `isinstance(dtype, pd.SparseDtype)` instead.\n",
      "  if is_sparse(pd_dtype):\n",
      "c:\\Users\\AMIT KUMAR BHADRA\\AppData\\Local\\Programs\\Python\\Python39\\lib\\site-packages\\sklearn\\utils\\validation.py:614: FutureWarning: is_sparse is deprecated and will be removed in a future version. Check `isinstance(dtype, pd.SparseDtype)` instead.\n",
      "  if is_sparse(pd_dtype) or not is_extension_array_dtype(pd_dtype):\n",
      "c:\\Users\\AMIT KUMAR BHADRA\\AppData\\Local\\Programs\\Python\\Python39\\lib\\site-packages\\sklearn\\utils\\validation.py:767: FutureWarning: is_sparse is deprecated and will be removed in a future version. Check `isinstance(dtype, pd.SparseDtype)` instead.\n",
      "  if not hasattr(array, \"sparse\") and array.dtypes.apply(is_sparse).any():\n",
      "c:\\Users\\AMIT KUMAR BHADRA\\AppData\\Local\\Programs\\Python\\Python39\\lib\\site-packages\\sklearn\\utils\\validation.py:605: FutureWarning: is_sparse is deprecated and will be removed in a future version. Check `isinstance(dtype, pd.SparseDtype)` instead.\n",
      "  if is_sparse(pd_dtype):\n",
      "c:\\Users\\AMIT KUMAR BHADRA\\AppData\\Local\\Programs\\Python\\Python39\\lib\\site-packages\\sklearn\\utils\\validation.py:614: FutureWarning: is_sparse is deprecated and will be removed in a future version. Check `isinstance(dtype, pd.SparseDtype)` instead.\n",
      "  if is_sparse(pd_dtype) or not is_extension_array_dtype(pd_dtype):\n"
     ]
    },
    {
     "data": {
      "text/plain": [
       "(array([11.722 , 72.112 ,  2.36  , 22.438 , 30.05  , 10.739 , 13.45  ,\n",
       "        10.258 ,  8.904 , 10.539 ,  8.274 ,  6.563 , 14.215 , 20.378 ,\n",
       "         5.023 , 19.373 , 31.111 , 13.25  ,  2.542 , 26.871 ,  4.815 ,\n",
       "        27.443 , 10.74  , 11.323 , 12.9595, 15.127 , 16.833 ,  4.632 ,\n",
       "        10.1726, 20.581 ,  7.811 ,  7.556 ,  2.014 , 17.087 , 11.572 ,\n",
       "         2.228 , 35.42  ,  2.797 ,  3.097 , 18.213 ,  3.735 , 16.722 ,\n",
       "         9.034 , 22.6402, 12.603 , 31.059 , 23.583 , 38.4348,  5.35  ,\n",
       "         1.987 , 58.4187, 13.406 , 13.86  , 13.921 , 11.428 , 12.52  ,\n",
       "        12.276 ,  9.363 ,  9.2545, 13.927 ,  6.306 , 15.73  ,  9.439 ,\n",
       "        26.329 ,  4.261 , 13.739 ,  8.775 , 18.041 , 13.534 , 25.0221,\n",
       "        12.7319, 20.046 ,  5.215 ,  1.777 ,  9.574 ,  4.835 , 27.449 ,\n",
       "        18.958 ,  5.554 , 13.277 ,  4.963 , 33.238 , 14.05  ,  3.27  ,\n",
       "        19.292 , 11.0996,  9.122 , 11.665 , 20.038 , 38.346 ,  3.055 ,\n",
       "         5.879 , 26.8526, 20.152 , 26.459 , 10.965 ,  6.169 , 12.877 ,\n",
       "         8.    , 32.7621,  9.2957,  9.461 , 13.304 , 10.2998, 11.56  ,\n",
       "        13.222 , 18.6362, 15.195 ,  5.233 , 14.6881, 11.835 , 39.649 ,\n",
       "         4.145 ,  5.596 , 19.2735,  7.317 , 40.3629,  8.51  ,  5.207 ,\n",
       "         3.7995,  3.494 , 15.472 , 21.171 , 11.0211,  7.218 , 24.281 ,\n",
       "         6.5195, 13.508 , 11.013 , 17.739 ,  8.182 , 41.7836,  9.489 ,\n",
       "        15.384 , 46.4253, 10.897 , 16.0739, 12.315 , 10.17  , 15.047 ,\n",
       "         6.292 , 20.83  , 26.8   , 20.622 , 11.19  , 16.878 , 25.1591,\n",
       "        16.214 ,  2.062 , 13.372 , 48.26  , 15.548 , 19.2316, 11.78  ,\n",
       "        12.748 ,  9.886 , 18.977 ,  7.2785,  8.374 , 32.31  , 44.8218,\n",
       "        14.628 ,  7.503 , 17.601 , 30.4746, 11.76  , 13.328 ,  9.5555,\n",
       "        12.25  , 17.147 , 30.271 ,  4.891 , 13.27  , 19.001 , 12.316 ,\n",
       "         9.105 , 32.3751,  4.5326, 20.094 , 13.565 , 13.123 , 11.304 ,\n",
       "         5.1785, 49.6182, 16.096 , 15.747 ,  6.619 ,  6.764 , 14.2246,\n",
       "         8.539 , 15.573 , 10.287 ,  5.061 , 37.15  , 19.714 , 12.944 ,\n",
       "         5.232 , 21.0142, 10.282 , 13.703 , 15.576 ,  3.594 , 10.3681,\n",
       "        13.4595, 16.786 , 19.993 , 16.7518,  3.1266,  6.788 , 26.539 ,\n",
       "        15.482 ,  9.312 , 13.107 ,  9.845 ,  5.315 ,  8.675 ,  6.598 ,\n",
       "        10.262 , 13.428 , 25.073 , 13.952 , 21.785 ,  8.923 , 17.091 ,\n",
       "        12.1231, 17.258 , 19.98  ,  3.66  , 12.421 , 14.6881, 13.799 ,\n",
       "        10.956 , 18.655 , 13.085 , 17.738 , 11.164 ,  2.644 , 18.338 ,\n",
       "        11.047 , 19.629 , 50.5587, 64.225 , 29.7035, 11.862 , 30.209 ,\n",
       "         5.662 ,  4.38  , 18.947 ,  4.417 , 16.473 , 11.651 , 12.502 ,\n",
       "         8.589 , 12.535 , 18.284 ,  8.11  , 12.67  ,  9.198 , 15.661 ,\n",
       "         7.305 ,  9.944 , 32.648 , 51.317 , 13.823 ,  8.11  , 15.259 ,\n",
       "        14.244 ,  5.789 , 16.743 , 20.03  , 28.132 , 12.594 , 14.802 ,\n",
       "         6.22  ,  9.395 , 16.017 , 11.995 , 10.246 , 11.244 , 18.655 ,\n",
       "         2.827 , 14.399 , 10.8845,  8.797 ,  8.34  ,  7.843 , 18.2491,\n",
       "         7.686 , 43.13  , 17.4266,  9.598 , 16.5386, 11.581 , 14.123 ,\n",
       "        13.076 , 27.1402,  8.165 , 10.5015, 14.773 , 12.05  ,  4.1155,\n",
       "        15.701 , 13.196 , 62.581 ,  5.35  , 36.609 ,  7.499 , 22.4246,\n",
       "        10.348 , 21.085 ,  6.737 , 15.309 , 16.449 ,  7.8096, 49.9141,\n",
       "         9.875 , 27.395 , 17.945 , 15.675 ]),\n",
       " array([11.722 , 72.112 ,  2.36  , 22.438 , 30.05  , 10.739 , 13.45  ,\n",
       "        10.258 ,  8.904 , 10.539 ,  8.274 ,  6.563 , 14.215 , 20.378 ,\n",
       "         5.023 , 19.373 , 31.111 , 13.25  ,  2.542 , 26.871 ,  4.815 ,\n",
       "        27.443 , 10.74  , 11.323 , 12.9595, 15.127 , 16.833 ,  4.632 ,\n",
       "        10.1726, 20.581 ,  7.811 ,  7.556 ,  2.014 , 17.087 , 11.572 ,\n",
       "         2.228 , 35.42  ,  2.797 ,  3.097 , 18.213 ,  3.735 , 16.722 ,\n",
       "         9.034 , 22.6402, 12.603 , 31.059 , 23.583 , 38.4348,  5.35  ,\n",
       "         1.987 , 58.4187, 13.406 , 13.86  , 13.921 , 11.428 , 12.52  ,\n",
       "        12.276 ,  9.363 ,  9.2545, 13.927 ,  6.306 , 15.73  ,  9.439 ,\n",
       "        26.329 ,  4.261 , 13.739 ,  8.775 , 18.041 , 13.534 , 25.0221,\n",
       "        12.7319, 20.046 ,  5.215 ,  1.777 ,  9.574 ,  4.835 , 27.449 ,\n",
       "        18.958 ,  5.554 , 13.277 ,  4.963 , 33.238 , 14.05  ,  3.27  ,\n",
       "        19.292 , 11.0996,  9.122 , 11.665 , 20.038 , 38.346 ,  3.055 ,\n",
       "         5.879 , 26.8526, 20.152 , 26.459 , 10.965 ,  6.169 , 12.877 ,\n",
       "         8.    , 32.7621,  9.2957,  9.461 , 13.304 , 10.2998, 11.56  ,\n",
       "        13.222 , 18.6362, 15.195 ,  5.233 , 14.6881, 11.835 , 39.649 ,\n",
       "         4.145 ,  5.596 , 19.2735,  7.317 , 40.3629,  8.51  ,  5.207 ,\n",
       "         3.7995,  3.494 , 15.472 , 21.171 , 11.0211,  7.218 , 24.281 ,\n",
       "         6.5195, 13.508 , 11.013 , 17.739 ,  8.182 , 41.7836,  9.489 ,\n",
       "        15.384 , 46.4253, 10.897 , 16.0739, 12.315 , 10.17  , 15.047 ,\n",
       "         6.292 , 20.83  , 26.8   , 20.622 , 11.19  , 16.878 , 25.1591,\n",
       "        16.214 ,  2.062 , 13.372 , 48.26  , 15.548 , 19.2316, 11.78  ,\n",
       "        12.748 ,  9.886 , 18.977 ,  7.2785,  8.374 , 32.31  , 44.8218,\n",
       "        14.628 ,  7.503 , 17.601 , 30.4746, 11.76  , 13.328 ,  9.5555,\n",
       "        12.25  , 17.147 , 30.271 ,  4.891 , 13.27  , 19.001 , 12.316 ,\n",
       "         9.105 , 32.3751,  4.5326, 20.094 , 13.565 , 13.123 , 11.304 ,\n",
       "         5.1785, 49.6182, 16.096 , 15.747 ,  6.619 ,  6.764 , 14.2246,\n",
       "         8.539 , 15.573 , 10.287 ,  5.061 , 37.15  , 19.714 , 12.944 ,\n",
       "         5.232 , 21.0142, 10.282 , 13.703 , 15.576 ,  3.594 , 10.3681,\n",
       "        13.4595, 16.786 , 19.993 , 16.7518,  3.1266,  6.788 , 26.539 ,\n",
       "        15.482 ,  9.312 , 13.107 ,  9.845 ,  5.315 ,  8.675 ,  6.598 ,\n",
       "        10.262 , 13.428 , 25.073 , 13.952 , 21.785 ,  8.923 , 17.091 ,\n",
       "        12.1231, 17.258 , 19.98  ,  3.66  , 12.421 , 14.6881, 13.799 ,\n",
       "        10.956 , 18.655 , 13.085 , 17.738 , 11.164 ,  2.644 , 18.338 ,\n",
       "        11.047 , 19.629 , 50.5587, 64.225 , 29.7035, 11.862 , 30.209 ,\n",
       "         5.662 ,  4.38  , 18.947 ,  4.417 , 16.473 , 11.651 , 12.502 ,\n",
       "         8.589 , 12.535 , 18.284 ,  8.11  , 12.67  ,  9.198 , 15.661 ,\n",
       "         7.305 ,  9.944 , 32.648 , 51.317 , 13.823 ,  8.11  , 15.259 ,\n",
       "        14.244 ,  5.789 , 16.743 , 20.03  , 28.132 , 12.594 , 14.802 ,\n",
       "         6.22  ,  9.395 , 16.017 , 11.995 , 10.246 , 11.244 , 18.655 ,\n",
       "         2.827 , 14.399 , 10.8845,  8.797 ,  8.34  ,  7.843 , 18.2491,\n",
       "         7.686 , 43.13  , 17.4266,  9.598 , 16.5386, 11.581 , 14.123 ,\n",
       "        13.076 , 27.1402,  8.165 , 10.5015, 14.773 , 12.05  ,  4.1155,\n",
       "        15.701 , 13.196 , 62.581 ,  5.35  , 36.609 ,  7.499 , 22.4246,\n",
       "        10.348 , 21.085 ,  6.737 , 15.309 , 16.449 ,  7.8096, 49.9141,\n",
       "         9.875 , 27.395 , 17.945 , 15.675 ]))"
      ]
     },
     "execution_count": 377,
     "metadata": {},
     "output_type": "execute_result"
    }
   ],
   "source": [
    "y_test_pred = rf.predict(X_test)\n",
    "y_train_pred = rf.predict(X_train)\n",
    "y_train_pred, y_train_pred"
   ]
  },
  {
   "cell_type": "code",
   "execution_count": null,
   "metadata": {},
   "outputs": [
    {
     "name": "stderr",
     "output_type": "stream",
     "text": [
      "c:\\Users\\AMIT KUMAR BHADRA\\AppData\\Local\\Programs\\Python\\Python39\\lib\\site-packages\\sklearn\\utils\\validation.py:605: FutureWarning: is_sparse is deprecated and will be removed in a future version. Check `isinstance(dtype, pd.SparseDtype)` instead.\n",
      "  if is_sparse(pd_dtype):\n",
      "c:\\Users\\AMIT KUMAR BHADRA\\AppData\\Local\\Programs\\Python\\Python39\\lib\\site-packages\\sklearn\\utils\\validation.py:614: FutureWarning: is_sparse is deprecated and will be removed in a future version. Check `isinstance(dtype, pd.SparseDtype)` instead.\n",
      "  if is_sparse(pd_dtype) or not is_extension_array_dtype(pd_dtype):\n"
     ]
    },
    {
     "data": {
      "text/plain": [
       "-0.40383766732072934"
      ]
     },
     "execution_count": 400,
     "metadata": {},
     "output_type": "execute_result"
    }
   ],
   "source": [
    "acc = r2_score(y_test,y_test_pred)\n",
    "acc"
   ]
  },
  {
   "cell_type": "code",
   "execution_count": null,
   "metadata": {},
   "outputs": [
    {
     "name": "stderr",
     "output_type": "stream",
     "text": [
      "c:\\Users\\AMIT KUMAR BHADRA\\AppData\\Local\\Programs\\Python\\Python39\\lib\\site-packages\\sklearn\\utils\\validation.py:605: FutureWarning: is_sparse is deprecated and will be removed in a future version. Check `isinstance(dtype, pd.SparseDtype)` instead.\n",
      "  if is_sparse(pd_dtype):\n",
      "c:\\Users\\AMIT KUMAR BHADRA\\AppData\\Local\\Programs\\Python\\Python39\\lib\\site-packages\\sklearn\\utils\\validation.py:614: FutureWarning: is_sparse is deprecated and will be removed in a future version. Check `isinstance(dtype, pd.SparseDtype)` instead.\n",
      "  if is_sparse(pd_dtype) or not is_extension_array_dtype(pd_dtype):\n"
     ]
    },
    {
     "data": {
      "text/plain": [
       "10.75380429416895"
      ]
     },
     "execution_count": 401,
     "metadata": {},
     "output_type": "execute_result"
    }
   ],
   "source": [
    "\n",
    "mae = mean_absolute_error(y_test, y_test_pred)\n",
    "mae"
   ]
  },
  {
   "cell_type": "code",
   "execution_count": null,
   "metadata": {},
   "outputs": [
    {
     "name": "stderr",
     "output_type": "stream",
     "text": [
      "c:\\Users\\AMIT KUMAR BHADRA\\AppData\\Local\\Programs\\Python\\Python39\\lib\\site-packages\\sklearn\\base.py:409: UserWarning: X does not have valid feature names, but RandomForestRegressor was fitted with feature names\n",
      "  warnings.warn(\n"
     ]
    },
    {
     "data": {
      "text/plain": [
       "array([9.918])"
      ]
     },
     "execution_count": 402,
     "metadata": {},
     "output_type": "execute_result"
    }
   ],
   "source": [
    "rf.predict([[12.0,26,159,0,60,37.0]])"
   ]
  },
  {
   "cell_type": "code",
   "execution_count": null,
   "metadata": {},
   "outputs": [
    {
     "data": {
      "text/html": [
       "<div>\n",
       "<style scoped>\n",
       "    .dataframe tbody tr th:only-of-type {\n",
       "        vertical-align: middle;\n",
       "    }\n",
       "\n",
       "    .dataframe tbody tr th {\n",
       "        vertical-align: top;\n",
       "    }\n",
       "\n",
       "    .dataframe thead th {\n",
       "        text-align: right;\n",
       "    }\n",
       "</style>\n",
       "<table border=\"1\" class=\"dataframe\">\n",
       "  <thead>\n",
       "    <tr style=\"text-align: right;\">\n",
       "      <th></th>\n",
       "      <th>Work Exp</th>\n",
       "      <th>Annual Salary</th>\n",
       "      <th>Current Location</th>\n",
       "      <th>Designation</th>\n",
       "      <th>U.G. Course</th>\n",
       "      <th>P. G. Course</th>\n",
       "      <th>Age/Date of Birth</th>\n",
       "    </tr>\n",
       "  </thead>\n",
       "  <tbody>\n",
       "    <tr>\n",
       "      <th>394</th>\n",
       "      <td>10.0</td>\n",
       "      <td>27.0</td>\n",
       "      <td>48</td>\n",
       "      <td>42</td>\n",
       "      <td>0</td>\n",
       "      <td>14</td>\n",
       "      <td>37.0</td>\n",
       "    </tr>\n",
       "    <tr>\n",
       "      <th>395</th>\n",
       "      <td>6.0</td>\n",
       "      <td>18.0</td>\n",
       "      <td>47</td>\n",
       "      <td>184</td>\n",
       "      <td>0</td>\n",
       "      <td>60</td>\n",
       "      <td>37.0</td>\n",
       "    </tr>\n",
       "    <tr>\n",
       "      <th>396</th>\n",
       "      <td>12.0</td>\n",
       "      <td>6.0</td>\n",
       "      <td>26</td>\n",
       "      <td>159</td>\n",
       "      <td>0</td>\n",
       "      <td>60</td>\n",
       "      <td>44.0</td>\n",
       "    </tr>\n",
       "    <tr>\n",
       "      <th>397</th>\n",
       "      <td>6.7</td>\n",
       "      <td>30.0</td>\n",
       "      <td>48</td>\n",
       "      <td>42</td>\n",
       "      <td>0</td>\n",
       "      <td>48</td>\n",
       "      <td>31.0</td>\n",
       "    </tr>\n",
       "    <tr>\n",
       "      <th>398</th>\n",
       "      <td>7.0</td>\n",
       "      <td>18.5</td>\n",
       "      <td>34</td>\n",
       "      <td>44</td>\n",
       "      <td>0</td>\n",
       "      <td>60</td>\n",
       "      <td>37.0</td>\n",
       "    </tr>\n",
       "  </tbody>\n",
       "</table>\n",
       "</div>"
      ],
      "text/plain": [
       "     Work Exp  Annual Salary  Current Location  Designation  U.G. Course  \\\n",
       "394      10.0           27.0                48           42            0   \n",
       "395       6.0           18.0                47          184            0   \n",
       "396      12.0            6.0                26          159            0   \n",
       "397       6.7           30.0                48           42            0   \n",
       "398       7.0           18.5                34           44            0   \n",
       "\n",
       "     P. G. Course  Age/Date of Birth  \n",
       "394            14               37.0  \n",
       "395            60               37.0  \n",
       "396            60               44.0  \n",
       "397            48               31.0  \n",
       "398            60               37.0  "
      ]
     },
     "execution_count": 403,
     "metadata": {},
     "output_type": "execute_result"
    }
   ],
   "source": [
    "df.tail()"
   ]
  },
  {
   "cell_type": "markdown",
   "metadata": {},
   "source": [
    "## LINEAR REGRESSION"
   ]
  },
  {
   "cell_type": "code",
   "execution_count": null,
   "metadata": {},
   "outputs": [],
   "source": [
    "from sklearn.linear_model import LinearRegression\n",
    "reg = LinearRegression()"
   ]
  },
  {
   "cell_type": "code",
   "execution_count": null,
   "metadata": {},
   "outputs": [
    {
     "name": "stderr",
     "output_type": "stream",
     "text": [
      "c:\\Users\\AMIT KUMAR BHADRA\\AppData\\Local\\Programs\\Python\\Python39\\lib\\site-packages\\sklearn\\utils\\validation.py:767: FutureWarning: is_sparse is deprecated and will be removed in a future version. Check `isinstance(dtype, pd.SparseDtype)` instead.\n",
      "  if not hasattr(array, \"sparse\") and array.dtypes.apply(is_sparse).any():\n",
      "c:\\Users\\AMIT KUMAR BHADRA\\AppData\\Local\\Programs\\Python\\Python39\\lib\\site-packages\\sklearn\\utils\\validation.py:605: FutureWarning: is_sparse is deprecated and will be removed in a future version. Check `isinstance(dtype, pd.SparseDtype)` instead.\n",
      "  if is_sparse(pd_dtype):\n",
      "c:\\Users\\AMIT KUMAR BHADRA\\AppData\\Local\\Programs\\Python\\Python39\\lib\\site-packages\\sklearn\\utils\\validation.py:614: FutureWarning: is_sparse is deprecated and will be removed in a future version. Check `isinstance(dtype, pd.SparseDtype)` instead.\n",
      "  if is_sparse(pd_dtype) or not is_extension_array_dtype(pd_dtype):\n",
      "c:\\Users\\AMIT KUMAR BHADRA\\AppData\\Local\\Programs\\Python\\Python39\\lib\\site-packages\\sklearn\\utils\\validation.py:605: FutureWarning: is_sparse is deprecated and will be removed in a future version. Check `isinstance(dtype, pd.SparseDtype)` instead.\n",
      "  if is_sparse(pd_dtype):\n",
      "c:\\Users\\AMIT KUMAR BHADRA\\AppData\\Local\\Programs\\Python\\Python39\\lib\\site-packages\\sklearn\\utils\\validation.py:614: FutureWarning: is_sparse is deprecated and will be removed in a future version. Check `isinstance(dtype, pd.SparseDtype)` instead.\n",
      "  if is_sparse(pd_dtype) or not is_extension_array_dtype(pd_dtype):\n"
     ]
    },
    {
     "data": {
      "text/html": [
       "<style>#sk-container-id-24 {color: black;background-color: white;}#sk-container-id-24 pre{padding: 0;}#sk-container-id-24 div.sk-toggleable {background-color: white;}#sk-container-id-24 label.sk-toggleable__label {cursor: pointer;display: block;width: 100%;margin-bottom: 0;padding: 0.3em;box-sizing: border-box;text-align: center;}#sk-container-id-24 label.sk-toggleable__label-arrow:before {content: \"▸\";float: left;margin-right: 0.25em;color: #696969;}#sk-container-id-24 label.sk-toggleable__label-arrow:hover:before {color: black;}#sk-container-id-24 div.sk-estimator:hover label.sk-toggleable__label-arrow:before {color: black;}#sk-container-id-24 div.sk-toggleable__content {max-height: 0;max-width: 0;overflow: hidden;text-align: left;background-color: #f0f8ff;}#sk-container-id-24 div.sk-toggleable__content pre {margin: 0.2em;color: black;border-radius: 0.25em;background-color: #f0f8ff;}#sk-container-id-24 input.sk-toggleable__control:checked~div.sk-toggleable__content {max-height: 200px;max-width: 100%;overflow: auto;}#sk-container-id-24 input.sk-toggleable__control:checked~label.sk-toggleable__label-arrow:before {content: \"▾\";}#sk-container-id-24 div.sk-estimator input.sk-toggleable__control:checked~label.sk-toggleable__label {background-color: #d4ebff;}#sk-container-id-24 div.sk-label input.sk-toggleable__control:checked~label.sk-toggleable__label {background-color: #d4ebff;}#sk-container-id-24 input.sk-hidden--visually {border: 0;clip: rect(1px 1px 1px 1px);clip: rect(1px, 1px, 1px, 1px);height: 1px;margin: -1px;overflow: hidden;padding: 0;position: absolute;width: 1px;}#sk-container-id-24 div.sk-estimator {font-family: monospace;background-color: #f0f8ff;border: 1px dotted black;border-radius: 0.25em;box-sizing: border-box;margin-bottom: 0.5em;}#sk-container-id-24 div.sk-estimator:hover {background-color: #d4ebff;}#sk-container-id-24 div.sk-parallel-item::after {content: \"\";width: 100%;border-bottom: 1px solid gray;flex-grow: 1;}#sk-container-id-24 div.sk-label:hover label.sk-toggleable__label {background-color: #d4ebff;}#sk-container-id-24 div.sk-serial::before {content: \"\";position: absolute;border-left: 1px solid gray;box-sizing: border-box;top: 0;bottom: 0;left: 50%;z-index: 0;}#sk-container-id-24 div.sk-serial {display: flex;flex-direction: column;align-items: center;background-color: white;padding-right: 0.2em;padding-left: 0.2em;position: relative;}#sk-container-id-24 div.sk-item {position: relative;z-index: 1;}#sk-container-id-24 div.sk-parallel {display: flex;align-items: stretch;justify-content: center;background-color: white;position: relative;}#sk-container-id-24 div.sk-item::before, #sk-container-id-24 div.sk-parallel-item::before {content: \"\";position: absolute;border-left: 1px solid gray;box-sizing: border-box;top: 0;bottom: 0;left: 50%;z-index: -1;}#sk-container-id-24 div.sk-parallel-item {display: flex;flex-direction: column;z-index: 1;position: relative;background-color: white;}#sk-container-id-24 div.sk-parallel-item:first-child::after {align-self: flex-end;width: 50%;}#sk-container-id-24 div.sk-parallel-item:last-child::after {align-self: flex-start;width: 50%;}#sk-container-id-24 div.sk-parallel-item:only-child::after {width: 0;}#sk-container-id-24 div.sk-dashed-wrapped {border: 1px dashed gray;margin: 0 0.4em 0.5em 0.4em;box-sizing: border-box;padding-bottom: 0.4em;background-color: white;}#sk-container-id-24 div.sk-label label {font-family: monospace;font-weight: bold;display: inline-block;line-height: 1.2em;}#sk-container-id-24 div.sk-label-container {text-align: center;}#sk-container-id-24 div.sk-container {/* jupyter's `normalize.less` sets `[hidden] { display: none; }` but bootstrap.min.css set `[hidden] { display: none !important; }` so we also need the `!important` here to be able to override the default hidden behavior on the sphinx rendered scikit-learn.org. See: https://github.com/scikit-learn/scikit-learn/issues/21755 */display: inline-block !important;position: relative;}#sk-container-id-24 div.sk-text-repr-fallback {display: none;}</style><div id=\"sk-container-id-24\" class=\"sk-top-container\"><div class=\"sk-text-repr-fallback\"><pre>LinearRegression()</pre><b>In a Jupyter environment, please rerun this cell to show the HTML representation or trust the notebook. <br />On GitHub, the HTML representation is unable to render, please try loading this page with nbviewer.org.</b></div><div class=\"sk-container\" hidden><div class=\"sk-item\"><div class=\"sk-estimator sk-toggleable\"><input class=\"sk-toggleable__control sk-hidden--visually\" id=\"sk-estimator-id-24\" type=\"checkbox\" checked><label for=\"sk-estimator-id-24\" class=\"sk-toggleable__label sk-toggleable__label-arrow\">LinearRegression</label><div class=\"sk-toggleable__content\"><pre>LinearRegression()</pre></div></div></div></div></div>"
      ],
      "text/plain": [
       "LinearRegression()"
      ]
     },
     "execution_count": 405,
     "metadata": {},
     "output_type": "execute_result"
    }
   ],
   "source": [
    "reg.fit(X_train, y_train)"
   ]
  },
  {
   "cell_type": "code",
   "execution_count": null,
   "metadata": {},
   "outputs": [],
   "source": [
    "from sklearn.metrics import r2_score\n",
    "from sklearn.metrics import mean_squared_error"
   ]
  },
  {
   "cell_type": "code",
   "execution_count": null,
   "metadata": {},
   "outputs": [
    {
     "name": "stderr",
     "output_type": "stream",
     "text": [
      "c:\\Users\\AMIT KUMAR BHADRA\\AppData\\Local\\Programs\\Python\\Python39\\lib\\site-packages\\sklearn\\utils\\validation.py:767: FutureWarning: is_sparse is deprecated and will be removed in a future version. Check `isinstance(dtype, pd.SparseDtype)` instead.\n",
      "  if not hasattr(array, \"sparse\") and array.dtypes.apply(is_sparse).any():\n",
      "c:\\Users\\AMIT KUMAR BHADRA\\AppData\\Local\\Programs\\Python\\Python39\\lib\\site-packages\\sklearn\\utils\\validation.py:605: FutureWarning: is_sparse is deprecated and will be removed in a future version. Check `isinstance(dtype, pd.SparseDtype)` instead.\n",
      "  if is_sparse(pd_dtype):\n",
      "c:\\Users\\AMIT KUMAR BHADRA\\AppData\\Local\\Programs\\Python\\Python39\\lib\\site-packages\\sklearn\\utils\\validation.py:614: FutureWarning: is_sparse is deprecated and will be removed in a future version. Check `isinstance(dtype, pd.SparseDtype)` instead.\n",
      "  if is_sparse(pd_dtype) or not is_extension_array_dtype(pd_dtype):\n",
      "c:\\Users\\AMIT KUMAR BHADRA\\AppData\\Local\\Programs\\Python\\Python39\\lib\\site-packages\\sklearn\\utils\\validation.py:767: FutureWarning: is_sparse is deprecated and will be removed in a future version. Check `isinstance(dtype, pd.SparseDtype)` instead.\n",
      "  if not hasattr(array, \"sparse\") and array.dtypes.apply(is_sparse).any():\n",
      "c:\\Users\\AMIT KUMAR BHADRA\\AppData\\Local\\Programs\\Python\\Python39\\lib\\site-packages\\sklearn\\utils\\validation.py:605: FutureWarning: is_sparse is deprecated and will be removed in a future version. Check `isinstance(dtype, pd.SparseDtype)` instead.\n",
      "  if is_sparse(pd_dtype):\n",
      "c:\\Users\\AMIT KUMAR BHADRA\\AppData\\Local\\Programs\\Python\\Python39\\lib\\site-packages\\sklearn\\utils\\validation.py:614: FutureWarning: is_sparse is deprecated and will be removed in a future version. Check `isinstance(dtype, pd.SparseDtype)` instead.\n",
      "  if is_sparse(pd_dtype) or not is_extension_array_dtype(pd_dtype):\n"
     ]
    },
    {
     "data": {
      "text/plain": [
       "(array([14.952416  , 32.67094167,  8.78766143, 15.1487654 , 24.39438924]),\n",
       " array([25.79584152, 24.9898663 , 22.55527927, 16.73012374, 21.1590723 ]))"
      ]
     },
     "execution_count": 407,
     "metadata": {},
     "output_type": "execute_result"
    }
   ],
   "source": [
    "y_train_pred = reg .predict(X_train)\n",
    "y_test_pred = reg .predict(X_test)\n",
    "y_train_pred[:5], y_test_pred[:5]"
   ]
  },
  {
   "cell_type": "markdown",
   "metadata": {},
   "source": [
    "Checking the accuracy for linear reg"
   ]
  },
  {
   "cell_type": "code",
   "execution_count": null,
   "metadata": {},
   "outputs": [
    {
     "name": "stderr",
     "output_type": "stream",
     "text": [
      "c:\\Users\\AMIT KUMAR BHADRA\\AppData\\Local\\Programs\\Python\\Python39\\lib\\site-packages\\sklearn\\utils\\validation.py:605: FutureWarning: is_sparse is deprecated and will be removed in a future version. Check `isinstance(dtype, pd.SparseDtype)` instead.\n",
      "  if is_sparse(pd_dtype):\n",
      "c:\\Users\\AMIT KUMAR BHADRA\\AppData\\Local\\Programs\\Python\\Python39\\lib\\site-packages\\sklearn\\utils\\validation.py:614: FutureWarning: is_sparse is deprecated and will be removed in a future version. Check `isinstance(dtype, pd.SparseDtype)` instead.\n",
      "  if is_sparse(pd_dtype) or not is_extension_array_dtype(pd_dtype):\n",
      "c:\\Users\\AMIT KUMAR BHADRA\\AppData\\Local\\Programs\\Python\\Python39\\lib\\site-packages\\sklearn\\utils\\validation.py:605: FutureWarning: is_sparse is deprecated and will be removed in a future version. Check `isinstance(dtype, pd.SparseDtype)` instead.\n",
      "  if is_sparse(pd_dtype):\n",
      "c:\\Users\\AMIT KUMAR BHADRA\\AppData\\Local\\Programs\\Python\\Python39\\lib\\site-packages\\sklearn\\utils\\validation.py:614: FutureWarning: is_sparse is deprecated and will be removed in a future version. Check `isinstance(dtype, pd.SparseDtype)` instead.\n",
      "  if is_sparse(pd_dtype) or not is_extension_array_dtype(pd_dtype):\n"
     ]
    },
    {
     "data": {
      "text/plain": [
       "(12.804129394426711, -11.613045512459074)"
      ]
     },
     "execution_count": 408,
     "metadata": {},
     "output_type": "execute_result"
    }
   ],
   "source": [
    "r2_score(y_train, y_train_pred)*100 , r2_score(y_test, y_test_pred)*100"
   ]
  },
  {
   "cell_type": "code",
   "execution_count": null,
   "metadata": {},
   "outputs": [
    {
     "name": "stderr",
     "output_type": "stream",
     "text": [
      "c:\\Users\\AMIT KUMAR BHADRA\\AppData\\Local\\Programs\\Python\\Python39\\lib\\site-packages\\sklearn\\utils\\validation.py:605: FutureWarning: is_sparse is deprecated and will be removed in a future version. Check `isinstance(dtype, pd.SparseDtype)` instead.\n",
      "  if is_sparse(pd_dtype):\n",
      "c:\\Users\\AMIT KUMAR BHADRA\\AppData\\Local\\Programs\\Python\\Python39\\lib\\site-packages\\sklearn\\utils\\validation.py:614: FutureWarning: is_sparse is deprecated and will be removed in a future version. Check `isinstance(dtype, pd.SparseDtype)` instead.\n",
      "  if is_sparse(pd_dtype) or not is_extension_array_dtype(pd_dtype):\n",
      "c:\\Users\\AMIT KUMAR BHADRA\\AppData\\Local\\Programs\\Python\\Python39\\lib\\site-packages\\sklearn\\utils\\validation.py:605: FutureWarning: is_sparse is deprecated and will be removed in a future version. Check `isinstance(dtype, pd.SparseDtype)` instead.\n",
      "  if is_sparse(pd_dtype):\n",
      "c:\\Users\\AMIT KUMAR BHADRA\\AppData\\Local\\Programs\\Python\\Python39\\lib\\site-packages\\sklearn\\utils\\validation.py:614: FutureWarning: is_sparse is deprecated and will be removed in a future version. Check `isinstance(dtype, pd.SparseDtype)` instead.\n",
      "  if is_sparse(pd_dtype) or not is_extension_array_dtype(pd_dtype):\n"
     ]
    },
    {
     "data": {
      "text/plain": [
       "(187.5767449677505, 213.07639131167443)"
      ]
     },
     "execution_count": 409,
     "metadata": {},
     "output_type": "execute_result"
    }
   ],
   "source": [
    "mean_squared_error(y_train,y_train_pred), mean_squared_error(y_test,y_test_pred)"
   ]
  },
  {
   "cell_type": "markdown",
   "metadata": {},
   "source": [
    "## XGBOOST"
   ]
  },
  {
   "cell_type": "code",
   "execution_count": null,
   "metadata": {},
   "outputs": [],
   "source": [
    "import xgboost as xgb"
   ]
  },
  {
   "cell_type": "code",
   "execution_count": null,
   "metadata": {},
   "outputs": [
    {
     "data": {
      "text/html": [
       "<style>#sk-container-id-25 {color: black;background-color: white;}#sk-container-id-25 pre{padding: 0;}#sk-container-id-25 div.sk-toggleable {background-color: white;}#sk-container-id-25 label.sk-toggleable__label {cursor: pointer;display: block;width: 100%;margin-bottom: 0;padding: 0.3em;box-sizing: border-box;text-align: center;}#sk-container-id-25 label.sk-toggleable__label-arrow:before {content: \"▸\";float: left;margin-right: 0.25em;color: #696969;}#sk-container-id-25 label.sk-toggleable__label-arrow:hover:before {color: black;}#sk-container-id-25 div.sk-estimator:hover label.sk-toggleable__label-arrow:before {color: black;}#sk-container-id-25 div.sk-toggleable__content {max-height: 0;max-width: 0;overflow: hidden;text-align: left;background-color: #f0f8ff;}#sk-container-id-25 div.sk-toggleable__content pre {margin: 0.2em;color: black;border-radius: 0.25em;background-color: #f0f8ff;}#sk-container-id-25 input.sk-toggleable__control:checked~div.sk-toggleable__content {max-height: 200px;max-width: 100%;overflow: auto;}#sk-container-id-25 input.sk-toggleable__control:checked~label.sk-toggleable__label-arrow:before {content: \"▾\";}#sk-container-id-25 div.sk-estimator input.sk-toggleable__control:checked~label.sk-toggleable__label {background-color: #d4ebff;}#sk-container-id-25 div.sk-label input.sk-toggleable__control:checked~label.sk-toggleable__label {background-color: #d4ebff;}#sk-container-id-25 input.sk-hidden--visually {border: 0;clip: rect(1px 1px 1px 1px);clip: rect(1px, 1px, 1px, 1px);height: 1px;margin: -1px;overflow: hidden;padding: 0;position: absolute;width: 1px;}#sk-container-id-25 div.sk-estimator {font-family: monospace;background-color: #f0f8ff;border: 1px dotted black;border-radius: 0.25em;box-sizing: border-box;margin-bottom: 0.5em;}#sk-container-id-25 div.sk-estimator:hover {background-color: #d4ebff;}#sk-container-id-25 div.sk-parallel-item::after {content: \"\";width: 100%;border-bottom: 1px solid gray;flex-grow: 1;}#sk-container-id-25 div.sk-label:hover label.sk-toggleable__label {background-color: #d4ebff;}#sk-container-id-25 div.sk-serial::before {content: \"\";position: absolute;border-left: 1px solid gray;box-sizing: border-box;top: 0;bottom: 0;left: 50%;z-index: 0;}#sk-container-id-25 div.sk-serial {display: flex;flex-direction: column;align-items: center;background-color: white;padding-right: 0.2em;padding-left: 0.2em;position: relative;}#sk-container-id-25 div.sk-item {position: relative;z-index: 1;}#sk-container-id-25 div.sk-parallel {display: flex;align-items: stretch;justify-content: center;background-color: white;position: relative;}#sk-container-id-25 div.sk-item::before, #sk-container-id-25 div.sk-parallel-item::before {content: \"\";position: absolute;border-left: 1px solid gray;box-sizing: border-box;top: 0;bottom: 0;left: 50%;z-index: -1;}#sk-container-id-25 div.sk-parallel-item {display: flex;flex-direction: column;z-index: 1;position: relative;background-color: white;}#sk-container-id-25 div.sk-parallel-item:first-child::after {align-self: flex-end;width: 50%;}#sk-container-id-25 div.sk-parallel-item:last-child::after {align-self: flex-start;width: 50%;}#sk-container-id-25 div.sk-parallel-item:only-child::after {width: 0;}#sk-container-id-25 div.sk-dashed-wrapped {border: 1px dashed gray;margin: 0 0.4em 0.5em 0.4em;box-sizing: border-box;padding-bottom: 0.4em;background-color: white;}#sk-container-id-25 div.sk-label label {font-family: monospace;font-weight: bold;display: inline-block;line-height: 1.2em;}#sk-container-id-25 div.sk-label-container {text-align: center;}#sk-container-id-25 div.sk-container {/* jupyter's `normalize.less` sets `[hidden] { display: none; }` but bootstrap.min.css set `[hidden] { display: none !important; }` so we also need the `!important` here to be able to override the default hidden behavior on the sphinx rendered scikit-learn.org. See: https://github.com/scikit-learn/scikit-learn/issues/21755 */display: inline-block !important;position: relative;}#sk-container-id-25 div.sk-text-repr-fallback {display: none;}</style><div id=\"sk-container-id-25\" class=\"sk-top-container\"><div class=\"sk-text-repr-fallback\"><pre>XGBRegressor(base_score=None, booster=None, callbacks=None,\n",
       "             colsample_bylevel=None, colsample_bynode=None,\n",
       "             colsample_bytree=None, device=None, early_stopping_rounds=None,\n",
       "             enable_categorical=False, eval_metric=None, feature_types=None,\n",
       "             gamma=None, grow_policy=None, importance_type=None,\n",
       "             interaction_constraints=None, learning_rate=None, max_bin=None,\n",
       "             max_cat_threshold=None, max_cat_to_onehot=None,\n",
       "             max_delta_step=None, max_depth=None, max_leaves=None,\n",
       "             min_child_weight=None, missing=nan, monotone_constraints=None,\n",
       "             multi_strategy=None, n_estimators=None, n_jobs=None,\n",
       "             num_parallel_tree=None, random_state=None, ...)</pre><b>In a Jupyter environment, please rerun this cell to show the HTML representation or trust the notebook. <br />On GitHub, the HTML representation is unable to render, please try loading this page with nbviewer.org.</b></div><div class=\"sk-container\" hidden><div class=\"sk-item\"><div class=\"sk-estimator sk-toggleable\"><input class=\"sk-toggleable__control sk-hidden--visually\" id=\"sk-estimator-id-25\" type=\"checkbox\" checked><label for=\"sk-estimator-id-25\" class=\"sk-toggleable__label sk-toggleable__label-arrow\">XGBRegressor</label><div class=\"sk-toggleable__content\"><pre>XGBRegressor(base_score=None, booster=None, callbacks=None,\n",
       "             colsample_bylevel=None, colsample_bynode=None,\n",
       "             colsample_bytree=None, device=None, early_stopping_rounds=None,\n",
       "             enable_categorical=False, eval_metric=None, feature_types=None,\n",
       "             gamma=None, grow_policy=None, importance_type=None,\n",
       "             interaction_constraints=None, learning_rate=None, max_bin=None,\n",
       "             max_cat_threshold=None, max_cat_to_onehot=None,\n",
       "             max_delta_step=None, max_depth=None, max_leaves=None,\n",
       "             min_child_weight=None, missing=nan, monotone_constraints=None,\n",
       "             multi_strategy=None, n_estimators=None, n_jobs=None,\n",
       "             num_parallel_tree=None, random_state=None, ...)</pre></div></div></div></div></div>"
      ],
      "text/plain": [
       "XGBRegressor(base_score=None, booster=None, callbacks=None,\n",
       "             colsample_bylevel=None, colsample_bynode=None,\n",
       "             colsample_bytree=None, device=None, early_stopping_rounds=None,\n",
       "             enable_categorical=False, eval_metric=None, feature_types=None,\n",
       "             gamma=None, grow_policy=None, importance_type=None,\n",
       "             interaction_constraints=None, learning_rate=None, max_bin=None,\n",
       "             max_cat_threshold=None, max_cat_to_onehot=None,\n",
       "             max_delta_step=None, max_depth=None, max_leaves=None,\n",
       "             min_child_weight=None, missing=nan, monotone_constraints=None,\n",
       "             multi_strategy=None, n_estimators=None, n_jobs=None,\n",
       "             num_parallel_tree=None, random_state=None, ...)"
      ]
     },
     "execution_count": 411,
     "metadata": {},
     "output_type": "execute_result"
    }
   ],
   "source": [
    "xg = xgb.XGBRegressor()\n",
    "xg.fit(X_train,y_train)"
   ]
  },
  {
   "cell_type": "code",
   "execution_count": null,
   "metadata": {},
   "outputs": [],
   "source": [
    "y_train_pred = xg.predict(X_train)\n",
    "y_test_pred = xg.predict(X_test)"
   ]
  },
  {
   "cell_type": "code",
   "execution_count": null,
   "metadata": {},
   "outputs": [
    {
     "name": "stderr",
     "output_type": "stream",
     "text": [
      "c:\\Users\\AMIT KUMAR BHADRA\\AppData\\Local\\Programs\\Python\\Python39\\lib\\site-packages\\sklearn\\utils\\validation.py:605: FutureWarning: is_sparse is deprecated and will be removed in a future version. Check `isinstance(dtype, pd.SparseDtype)` instead.\n",
      "  if is_sparse(pd_dtype):\n",
      "c:\\Users\\AMIT KUMAR BHADRA\\AppData\\Local\\Programs\\Python\\Python39\\lib\\site-packages\\sklearn\\utils\\validation.py:614: FutureWarning: is_sparse is deprecated and will be removed in a future version. Check `isinstance(dtype, pd.SparseDtype)` instead.\n",
      "  if is_sparse(pd_dtype) or not is_extension_array_dtype(pd_dtype):\n",
      "c:\\Users\\AMIT KUMAR BHADRA\\AppData\\Local\\Programs\\Python\\Python39\\lib\\site-packages\\sklearn\\utils\\validation.py:605: FutureWarning: is_sparse is deprecated and will be removed in a future version. Check `isinstance(dtype, pd.SparseDtype)` instead.\n",
      "  if is_sparse(pd_dtype):\n",
      "c:\\Users\\AMIT KUMAR BHADRA\\AppData\\Local\\Programs\\Python\\Python39\\lib\\site-packages\\sklearn\\utils\\validation.py:614: FutureWarning: is_sparse is deprecated and will be removed in a future version. Check `isinstance(dtype, pd.SparseDtype)` instead.\n",
      "  if is_sparse(pd_dtype) or not is_extension_array_dtype(pd_dtype):\n"
     ]
    },
    {
     "data": {
      "text/plain": [
       "(99.82692238356525, -40.383766732072935)"
      ]
     },
     "execution_count": 413,
     "metadata": {},
     "output_type": "execute_result"
    }
   ],
   "source": [
    "r2_score(y_train,y_train_pred)*100 , r2_score(y_test,y_test_pred)*100"
   ]
  },
  {
   "cell_type": "code",
   "execution_count": null,
   "metadata": {},
   "outputs": [
    {
     "name": "stderr",
     "output_type": "stream",
     "text": [
      "c:\\Users\\AMIT KUMAR BHADRA\\AppData\\Local\\Programs\\Python\\Python39\\lib\\site-packages\\sklearn\\utils\\validation.py:605: FutureWarning: is_sparse is deprecated and will be removed in a future version. Check `isinstance(dtype, pd.SparseDtype)` instead.\n",
      "  if is_sparse(pd_dtype):\n",
      "c:\\Users\\AMIT KUMAR BHADRA\\AppData\\Local\\Programs\\Python\\Python39\\lib\\site-packages\\sklearn\\utils\\validation.py:614: FutureWarning: is_sparse is deprecated and will be removed in a future version. Check `isinstance(dtype, pd.SparseDtype)` instead.\n",
      "  if is_sparse(pd_dtype) or not is_extension_array_dtype(pd_dtype):\n",
      "c:\\Users\\AMIT KUMAR BHADRA\\AppData\\Local\\Programs\\Python\\Python39\\lib\\site-packages\\sklearn\\utils\\validation.py:605: FutureWarning: is_sparse is deprecated and will be removed in a future version. Check `isinstance(dtype, pd.SparseDtype)` instead.\n",
      "  if is_sparse(pd_dtype):\n",
      "c:\\Users\\AMIT KUMAR BHADRA\\AppData\\Local\\Programs\\Python\\Python39\\lib\\site-packages\\sklearn\\utils\\validation.py:614: FutureWarning: is_sparse is deprecated and will be removed in a future version. Check `isinstance(dtype, pd.SparseDtype)` instead.\n",
      "  if is_sparse(pd_dtype) or not is_extension_array_dtype(pd_dtype):\n"
     ]
    },
    {
     "data": {
      "text/plain": [
       "(0.3723265298245993, 268.00152506071475)"
      ]
     },
     "execution_count": 414,
     "metadata": {},
     "output_type": "execute_result"
    }
   ],
   "source": [
    "mean_squared_error(y_train,y_train_pred), mean_squared_error(y_test,y_test_pred)"
   ]
  },
  {
   "cell_type": "code",
   "execution_count": null,
   "metadata": {},
   "outputs": [
    {
     "data": {
      "text/plain": [
       "394    27.0\n",
       "395    18.0\n",
       "396     6.0\n",
       "397    30.0\n",
       "398    18.5\n",
       "Name: Annual Salary, dtype: float64"
      ]
     },
     "execution_count": 415,
     "metadata": {},
     "output_type": "execute_result"
    }
   ],
   "source": [
    "y.tail()"
   ]
  },
  {
   "cell_type": "code",
   "execution_count": null,
   "metadata": {},
   "outputs": [
    {
     "name": "stderr",
     "output_type": "stream",
     "text": [
      "c:\\Users\\AMIT KUMAR BHADRA\\AppData\\Local\\Programs\\Python\\Python39\\lib\\site-packages\\sklearn\\base.py:409: UserWarning: X does not have valid feature names, but RandomForestRegressor was fitted with feature names\n",
      "  warnings.warn(\n"
     ]
    },
    {
     "data": {
      "text/plain": [
       "array([15.309])"
      ]
     },
     "execution_count": 416,
     "metadata": {},
     "output_type": "execute_result"
    }
   ],
   "source": [
    "rf.predict([[7.0,34,44,0,60,37.0]]) # random forest regressor"
   ]
  },
  {
   "cell_type": "code",
   "execution_count": null,
   "metadata": {},
   "outputs": [
    {
     "name": "stderr",
     "output_type": "stream",
     "text": [
      "c:\\Users\\AMIT KUMAR BHADRA\\AppData\\Local\\Programs\\Python\\Python39\\lib\\site-packages\\sklearn\\base.py:409: UserWarning: X does not have valid feature names, but LinearRegression was fitted with feature names\n",
      "  warnings.warn(\n"
     ]
    },
    {
     "data": {
      "text/plain": [
       "array([11.51278812])"
      ]
     },
     "execution_count": 417,
     "metadata": {},
     "output_type": "execute_result"
    }
   ],
   "source": [
    "reg.predict([[7.0,34,44,0,60,37.0]]) # linear regression"
   ]
  },
  {
   "cell_type": "code",
   "execution_count": null,
   "metadata": {},
   "outputs": [
    {
     "name": "stderr",
     "output_type": "stream",
     "text": [
      "c:\\Users\\AMIT KUMAR BHADRA\\AppData\\Local\\Programs\\Python\\Python39\\lib\\site-packages\\sklearn\\base.py:409: UserWarning: X does not have valid feature names, but DecisionTreeRegressor was fitted with feature names\n",
      "  warnings.warn(\n"
     ]
    },
    {
     "data": {
      "text/plain": [
       "array([18.5])"
      ]
     },
     "execution_count": 418,
     "metadata": {},
     "output_type": "execute_result"
    }
   ],
   "source": [
    "dtr.predict([[7.0,34,44,0,60,37.0]]) # decision tree"
   ]
  },
  {
   "cell_type": "code",
   "execution_count": null,
   "metadata": {},
   "outputs": [
    {
     "data": {
      "text/plain": [
       "array([17.6803], dtype=float32)"
      ]
     },
     "execution_count": 419,
     "metadata": {},
     "output_type": "execute_result"
    }
   ],
   "source": [
    "xg.predict([[7.0,34,44,0,60,37.0]]) # xg boost"
   ]
  },
  {
   "cell_type": "code",
   "execution_count": null,
   "metadata": {},
   "outputs": [],
   "source": [
    "import pickle"
   ]
  },
  {
   "cell_type": "code",
   "execution_count": null,
   "metadata": {},
   "outputs": [],
   "source": [
    "pickle.dump(dtr,open('startups.pkl','wb'))"
   ]
  },
  {
   "cell_type": "code",
   "execution_count": null,
   "metadata": {},
   "outputs": [],
   "source": []
  }
 ],
 "metadata": {
  "kernelspec": {
   "display_name": "Python 3",
   "language": "python",
   "name": "python3"
  },
  "language_info": {
   "codemirror_mode": {
    "name": "ipython",
    "version": 3
   },
   "file_extension": ".py",
   "mimetype": "text/x-python",
   "name": "python",
   "nbconvert_exporter": "python",
   "pygments_lexer": "ipython3",
   "version": "3.9.4"
  }
 },
 "nbformat": 4,
 "nbformat_minor": 2
}
